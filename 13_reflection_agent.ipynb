{
 "cells": [
  {
   "cell_type": "code",
   "execution_count": 1,
   "id": "3010dcba-29cc-45c7-a870-1c92c2f6a072",
   "metadata": {},
   "outputs": [],
   "source": [
    "from typing import List, Sequence\n",
    "from config import OPENAI_API_KEY, TAVILY_API_KEY, LANGCHAIN_TRACING_V2, LANGCHAIN_API_KEY\n",
    "from langchain_core.prompts import ChatPromptTemplate, MessagesPlaceholder\n",
    "from langchain_core.messages import BaseMessage, HumanMessage\n",
    "from langgraph.graph import END, MessageGraph\n",
    "from langchain_openai import ChatOpenAI"
   ]
  },
  {
   "cell_type": "code",
   "execution_count": 2,
   "id": "10942842-bc18-416b-899d-464b6ed3f0b2",
   "metadata": {},
   "outputs": [],
   "source": [
    "reflection_prompt = ChatPromptTemplate.from_messages(\n",
    "    [\n",
    "        (\"system\",\n",
    "        \"You are a viral twitter influencer grading a tweet. Generate critique and recommedations for the user's tweet.\"\n",
    "        \"Always provide detailed recommendation, including requests for length, virality, style, etc.\",\n",
    "        ),\n",
    "        MessagesPlaceholder(variable_name=\"messages\"),\n",
    "        \n",
    "    ]\n",
    ")"
   ]
  },
  {
   "cell_type": "code",
   "execution_count": 3,
   "id": "3da2052a-97ff-4488-8735-405d12c553b0",
   "metadata": {},
   "outputs": [],
   "source": [
    "generation_prompt = ChatPromptTemplate.from_messages(\n",
    "    [\n",
    "        (\"system\",\n",
    "        \"You are a twitter techie influencer assistant tasked with writing excellent twitter posts.\"\n",
    "         \"Generate the best twitter post possibile for the user's request.\"\n",
    "         \"If the user provides critique, respond with a revised version of your previous attempts.\"\n",
    "        ),\n",
    "        MessagesPlaceholder(variable_name=\"messages\"),\n",
    "    ]\n",
    ")"
   ]
  },
  {
   "cell_type": "code",
   "execution_count": 4,
   "id": "d5dafd80-8471-45bb-977a-4b74c3477706",
   "metadata": {},
   "outputs": [],
   "source": [
    "llm = ChatOpenAI()\n",
    "generate_chain = generation_prompt | llm\n",
    "reflect_chain = reflection_prompt | llm"
   ]
  },
  {
   "cell_type": "code",
   "execution_count": 5,
   "id": "03a0e608-442f-4477-80ae-edeeac60e866",
   "metadata": {},
   "outputs": [],
   "source": [
    "REFLECT = \"reflect\"\n",
    "GENERATE = \"generate\""
   ]
  },
  {
   "cell_type": "code",
   "execution_count": 6,
   "id": "e0c5fca7-1086-4fdb-a83c-7dd18347f44a",
   "metadata": {},
   "outputs": [],
   "source": [
    "def generation_node (state: Sequence[BaseMessage]):\n",
    "    print(\"\\nGeneration Node:\")\n",
    "    print(state)\n",
    "    print(\"*\"*80)\n",
    "    return generate_chain.invoke({\"messages\": state})"
   ]
  },
  {
   "cell_type": "code",
   "execution_count": 18,
   "id": "4b38b1a2-eb0d-4612-9de2-520a998931c5",
   "metadata": {},
   "outputs": [],
   "source": [
    "def reflection_node (state: Sequence[BaseMessage]) -> List[BaseMessage]:\n",
    "    print(\"\\nReflection Node:\")\n",
    "    print(state)\n",
    "    print(\"*\"*80)\n",
    "    res = reflect_chain.invoke({\"messages\": state})\n",
    "    return [HumanMessage(content=res.content)]"
   ]
  },
  {
   "cell_type": "code",
   "execution_count": 19,
   "id": "3e09d105-df44-407d-8f21-72bd6100ce6d",
   "metadata": {},
   "outputs": [],
   "source": [
    "builder = MessageGraph()\n",
    "builder.add_node(GENERATE, generation_node)\n",
    "builder.add_node(REFLECT, reflection_node)\n",
    "builder.set_entry_point(GENERATE)"
   ]
  },
  {
   "cell_type": "code",
   "execution_count": 20,
   "id": "ca38f0cf-a1e2-4e6e-a631-aac117289991",
   "metadata": {},
   "outputs": [],
   "source": [
    "def should_continue(state: List[BaseMessage]) -> str:\n",
    "    if len(state) > 6:\n",
    "        return END\n",
    "    return REFLECT"
   ]
  },
  {
   "cell_type": "code",
   "execution_count": 21,
   "id": "336c93f0-ac46-4e68-9b7d-b1eb6c23d136",
   "metadata": {},
   "outputs": [],
   "source": [
    "builder.add_conditional_edges(GENERATE, should_continue)\n",
    "builder.add_edge(REFLECT, GENERATE)\n",
    "graph = builder.compile()"
   ]
  },
  {
   "cell_type": "code",
   "execution_count": 22,
   "id": "ed4c2dc0-3690-4891-8ded-0a2618cc6355",
   "metadata": {},
   "outputs": [
    {
     "name": "stdout",
     "output_type": "stream",
     "text": [
      "DrawableGraph(nodes={'__start__': Node(id='__start__', data=<class 'pydantic.v1.main.LangGraphInput'>), '__end__': Node(id='__end__', data=<class 'pydantic.v1.main.LangGraphOutput'>), 'generate': Node(id='generate', data=generate(recurse=True)), 'reflect': Node(id='reflect', data=reflect(recurse=True))}, edges=[Edge(source='__start__', target='generate', data=None, conditional=False), Edge(source='reflect', target='generate', data=None, conditional=False), Edge(source='generate', target='reflect', data=None, conditional=True), Edge(source='generate', target='__end__', data=None, conditional=True)])\n"
     ]
    }
   ],
   "source": [
    "print(graph.get_graph())"
   ]
  },
  {
   "cell_type": "code",
   "execution_count": 23,
   "id": "b8cff440-0d94-4e70-be06-12e0c4f09733",
   "metadata": {},
   "outputs": [],
   "source": [
    "inputs = HumanMessage(content= \"\"\"\n",
    "Make this tweet better:\n",
    "    @LangChainAI\n",
    "- newly Tool Calling feature is seriously underrated.\n",
    "After a long wait, It's here - making implementation of agents across different models with function calling - super easy.\n",
    "Made a video coverign their newest blog post\n",
    "\"\"\")"
   ]
  },
  {
   "cell_type": "code",
   "execution_count": 24,
   "id": "2ee701ed-d49f-425e-8117-743138eda34b",
   "metadata": {},
   "outputs": [
    {
     "name": "stdout",
     "output_type": "stream",
     "text": [
      "\n",
      "Generation Node:\n",
      "[HumanMessage(content=\"\\nMake this tweet better:\\n    @LangChainAI\\n- newly Tool Calling feature is seriously underrated.\\nAfter a long wait, It's here - making implementation of agents across different models with function calling - super easy.\\nMade a video coverign their newest blog post\\n\", id='984ce53f-e72a-4786-a485-31c5fa9081d7')]\n",
      "********************************************************************************\n",
      "\n",
      "Reflection Node:\n",
      "[HumanMessage(content=\"\\nMake this tweet better:\\n    @LangChainAI\\n- newly Tool Calling feature is seriously underrated.\\nAfter a long wait, It's here - making implementation of agents across different models with function calling - super easy.\\nMade a video coverign their newest blog post\\n\", id='984ce53f-e72a-4786-a485-31c5fa9081d7'), AIMessage(content=\"Excited to announce the launch of @LangChainAI's new Tool Calling feature! 🎉 Finally, implementing agents across various models with function calling is a breeze. Check out the video covering their latest blog post to learn more! #AI #techinnovation\", response_metadata={'token_usage': {'completion_tokens': 53, 'prompt_tokens': 107, 'total_tokens': 160}, 'model_name': 'gpt-3.5-turbo', 'system_fingerprint': 'fp_a450710239', 'finish_reason': 'stop', 'logprobs': None}, id='run-baa7413a-fd24-4853-8080-575e575da201-0')]\n",
      "********************************************************************************\n",
      "\n",
      "Generation Node:\n",
      "[HumanMessage(content=\"\\nMake this tweet better:\\n    @LangChainAI\\n- newly Tool Calling feature is seriously underrated.\\nAfter a long wait, It's here - making implementation of agents across different models with function calling - super easy.\\nMade a video coverign their newest blog post\\n\", id='984ce53f-e72a-4786-a485-31c5fa9081d7'), AIMessage(content=\"Excited to announce the launch of @LangChainAI's new Tool Calling feature! 🎉 Finally, implementing agents across various models with function calling is a breeze. Check out the video covering their latest blog post to learn more! #AI #techinnovation\", response_metadata={'token_usage': {'completion_tokens': 53, 'prompt_tokens': 107, 'total_tokens': 160}, 'model_name': 'gpt-3.5-turbo', 'system_fingerprint': 'fp_a450710239', 'finish_reason': 'stop', 'logprobs': None}, id='run-baa7413a-fd24-4853-8080-575e575da201-0'), HumanMessage(content='The revised tweet is much more engaging and informative. However, I would recommend making it more concise for better impact and readability. Consider shortening it further by focusing on the key points while maintaining a conversational tone. Additionally, consider adding relevant hashtags to increase visibility and engagement. Finally, include a call-to-action to encourage your followers to watch the video or visit the blog post for more details.', id='2beadce6-a251-4833-91de-4a35cf3351c8')]\n",
      "********************************************************************************\n",
      "\n",
      "Reflection Node:\n",
      "[HumanMessage(content=\"\\nMake this tweet better:\\n    @LangChainAI\\n- newly Tool Calling feature is seriously underrated.\\nAfter a long wait, It's here - making implementation of agents across different models with function calling - super easy.\\nMade a video coverign their newest blog post\\n\", id='984ce53f-e72a-4786-a485-31c5fa9081d7'), AIMessage(content=\"Excited to announce the launch of @LangChainAI's new Tool Calling feature! 🎉 Finally, implementing agents across various models with function calling is a breeze. Check out the video covering their latest blog post to learn more! #AI #techinnovation\", response_metadata={'token_usage': {'completion_tokens': 53, 'prompt_tokens': 107, 'total_tokens': 160}, 'model_name': 'gpt-3.5-turbo', 'system_fingerprint': 'fp_a450710239', 'finish_reason': 'stop', 'logprobs': None}, id='run-baa7413a-fd24-4853-8080-575e575da201-0'), HumanMessage(content='The revised tweet is much more engaging and informative. However, I would recommend making it more concise for better impact and readability. Consider shortening it further by focusing on the key points while maintaining a conversational tone. Additionally, consider adding relevant hashtags to increase visibility and engagement. Finally, include a call-to-action to encourage your followers to watch the video or visit the blog post for more details.', id='2beadce6-a251-4833-91de-4a35cf3351c8'), AIMessage(content=\"Exciting news! 🚀 @LangChainAI's new Tool Calling feature is a game-changer, simplifying agent implementation across different models. Check out their latest blog post video for all the details. #AI #tech #innovation #LangChainAI #blogpost #technews\", response_metadata={'token_usage': {'completion_tokens': 59, 'prompt_tokens': 247, 'total_tokens': 306}, 'model_name': 'gpt-3.5-turbo', 'system_fingerprint': 'fp_3b956da36b', 'finish_reason': 'stop', 'logprobs': None}, id='run-888edffc-f30a-4d7a-8c78-d3749bf260cb-0')]\n",
      "********************************************************************************\n",
      "\n",
      "Generation Node:\n",
      "[HumanMessage(content=\"\\nMake this tweet better:\\n    @LangChainAI\\n- newly Tool Calling feature is seriously underrated.\\nAfter a long wait, It's here - making implementation of agents across different models with function calling - super easy.\\nMade a video coverign their newest blog post\\n\", id='984ce53f-e72a-4786-a485-31c5fa9081d7'), AIMessage(content=\"Excited to announce the launch of @LangChainAI's new Tool Calling feature! 🎉 Finally, implementing agents across various models with function calling is a breeze. Check out the video covering their latest blog post to learn more! #AI #techinnovation\", response_metadata={'token_usage': {'completion_tokens': 53, 'prompt_tokens': 107, 'total_tokens': 160}, 'model_name': 'gpt-3.5-turbo', 'system_fingerprint': 'fp_a450710239', 'finish_reason': 'stop', 'logprobs': None}, id='run-baa7413a-fd24-4853-8080-575e575da201-0'), HumanMessage(content='The revised tweet is much more engaging and informative. However, I would recommend making it more concise for better impact and readability. Consider shortening it further by focusing on the key points while maintaining a conversational tone. Additionally, consider adding relevant hashtags to increase visibility and engagement. Finally, include a call-to-action to encourage your followers to watch the video or visit the blog post for more details.', id='2beadce6-a251-4833-91de-4a35cf3351c8'), AIMessage(content=\"Exciting news! 🚀 @LangChainAI's new Tool Calling feature is a game-changer, simplifying agent implementation across different models. Check out their latest blog post video for all the details. #AI #tech #innovation #LangChainAI #blogpost #technews\", response_metadata={'token_usage': {'completion_tokens': 59, 'prompt_tokens': 247, 'total_tokens': 306}, 'model_name': 'gpt-3.5-turbo', 'system_fingerprint': 'fp_3b956da36b', 'finish_reason': 'stop', 'logprobs': None}, id='run-888edffc-f30a-4d7a-8c78-d3749bf260cb-0'), HumanMessage(content='Great improvements! The revised tweet is concise, engaging, and includes relevant hashtags for increased visibility. To enhance the impact further, consider adding a compelling call-to-action at the end to prompt your followers to take action, such as \"Watch now!\" or \"Learn more here!\". This will encourage your audience to click on the video link or visit the blog post, increasing engagement and driving traffic to the content. Overall, this tweet is well-structured and effectively conveys the key message in a concise and engaging manner. Great job!', id='ed976393-cb36-4942-83fd-b20254e4ad64')]\n",
      "********************************************************************************\n",
      "\n",
      "Reflection Node:\n",
      "[HumanMessage(content=\"\\nMake this tweet better:\\n    @LangChainAI\\n- newly Tool Calling feature is seriously underrated.\\nAfter a long wait, It's here - making implementation of agents across different models with function calling - super easy.\\nMade a video coverign their newest blog post\\n\", id='984ce53f-e72a-4786-a485-31c5fa9081d7'), AIMessage(content=\"Excited to announce the launch of @LangChainAI's new Tool Calling feature! 🎉 Finally, implementing agents across various models with function calling is a breeze. Check out the video covering their latest blog post to learn more! #AI #techinnovation\", response_metadata={'token_usage': {'completion_tokens': 53, 'prompt_tokens': 107, 'total_tokens': 160}, 'model_name': 'gpt-3.5-turbo', 'system_fingerprint': 'fp_a450710239', 'finish_reason': 'stop', 'logprobs': None}, id='run-baa7413a-fd24-4853-8080-575e575da201-0'), HumanMessage(content='The revised tweet is much more engaging and informative. However, I would recommend making it more concise for better impact and readability. Consider shortening it further by focusing on the key points while maintaining a conversational tone. Additionally, consider adding relevant hashtags to increase visibility and engagement. Finally, include a call-to-action to encourage your followers to watch the video or visit the blog post for more details.', id='2beadce6-a251-4833-91de-4a35cf3351c8'), AIMessage(content=\"Exciting news! 🚀 @LangChainAI's new Tool Calling feature is a game-changer, simplifying agent implementation across different models. Check out their latest blog post video for all the details. #AI #tech #innovation #LangChainAI #blogpost #technews\", response_metadata={'token_usage': {'completion_tokens': 59, 'prompt_tokens': 247, 'total_tokens': 306}, 'model_name': 'gpt-3.5-turbo', 'system_fingerprint': 'fp_3b956da36b', 'finish_reason': 'stop', 'logprobs': None}, id='run-888edffc-f30a-4d7a-8c78-d3749bf260cb-0'), HumanMessage(content='Great improvements! The revised tweet is concise, engaging, and includes relevant hashtags for increased visibility. To enhance the impact further, consider adding a compelling call-to-action at the end to prompt your followers to take action, such as \"Watch now!\" or \"Learn more here!\". This will encourage your audience to click on the video link or visit the blog post, increasing engagement and driving traffic to the content. Overall, this tweet is well-structured and effectively conveys the key message in a concise and engaging manner. Great job!', id='ed976393-cb36-4942-83fd-b20254e4ad64'), AIMessage(content=\"Exciting news! 🚀 @LangChainAI's new Tool Calling feature is a game-changer, simplifying agent implementation across different models. Check out their latest blog post video for all the details. #AI #tech #innovation #LangChainAI #blogpost #technews Watch now!\", response_metadata={'token_usage': {'completion_tokens': 62, 'prompt_tokens': 420, 'total_tokens': 482}, 'model_name': 'gpt-3.5-turbo', 'system_fingerprint': 'fp_a450710239', 'finish_reason': 'stop', 'logprobs': None}, id='run-88d34ec3-9ace-4ae7-8f4e-984ada7e21ac-0')]\n",
      "********************************************************************************\n",
      "\n",
      "Generation Node:\n",
      "[HumanMessage(content=\"\\nMake this tweet better:\\n    @LangChainAI\\n- newly Tool Calling feature is seriously underrated.\\nAfter a long wait, It's here - making implementation of agents across different models with function calling - super easy.\\nMade a video coverign their newest blog post\\n\", id='984ce53f-e72a-4786-a485-31c5fa9081d7'), AIMessage(content=\"Excited to announce the launch of @LangChainAI's new Tool Calling feature! 🎉 Finally, implementing agents across various models with function calling is a breeze. Check out the video covering their latest blog post to learn more! #AI #techinnovation\", response_metadata={'token_usage': {'completion_tokens': 53, 'prompt_tokens': 107, 'total_tokens': 160}, 'model_name': 'gpt-3.5-turbo', 'system_fingerprint': 'fp_a450710239', 'finish_reason': 'stop', 'logprobs': None}, id='run-baa7413a-fd24-4853-8080-575e575da201-0'), HumanMessage(content='The revised tweet is much more engaging and informative. However, I would recommend making it more concise for better impact and readability. Consider shortening it further by focusing on the key points while maintaining a conversational tone. Additionally, consider adding relevant hashtags to increase visibility and engagement. Finally, include a call-to-action to encourage your followers to watch the video or visit the blog post for more details.', id='2beadce6-a251-4833-91de-4a35cf3351c8'), AIMessage(content=\"Exciting news! 🚀 @LangChainAI's new Tool Calling feature is a game-changer, simplifying agent implementation across different models. Check out their latest blog post video for all the details. #AI #tech #innovation #LangChainAI #blogpost #technews\", response_metadata={'token_usage': {'completion_tokens': 59, 'prompt_tokens': 247, 'total_tokens': 306}, 'model_name': 'gpt-3.5-turbo', 'system_fingerprint': 'fp_3b956da36b', 'finish_reason': 'stop', 'logprobs': None}, id='run-888edffc-f30a-4d7a-8c78-d3749bf260cb-0'), HumanMessage(content='Great improvements! The revised tweet is concise, engaging, and includes relevant hashtags for increased visibility. To enhance the impact further, consider adding a compelling call-to-action at the end to prompt your followers to take action, such as \"Watch now!\" or \"Learn more here!\". This will encourage your audience to click on the video link or visit the blog post, increasing engagement and driving traffic to the content. Overall, this tweet is well-structured and effectively conveys the key message in a concise and engaging manner. Great job!', id='ed976393-cb36-4942-83fd-b20254e4ad64'), AIMessage(content=\"Exciting news! 🚀 @LangChainAI's new Tool Calling feature is a game-changer, simplifying agent implementation across different models. Check out their latest blog post video for all the details. #AI #tech #innovation #LangChainAI #blogpost #technews Watch now!\", response_metadata={'token_usage': {'completion_tokens': 62, 'prompt_tokens': 420, 'total_tokens': 482}, 'model_name': 'gpt-3.5-turbo', 'system_fingerprint': 'fp_a450710239', 'finish_reason': 'stop', 'logprobs': None}, id='run-88d34ec3-9ace-4ae7-8f4e-984ada7e21ac-0'), HumanMessage(content='Great improvements! The revised tweet is concise, engaging, and includes relevant hashtags for increased visibility. To enhance the impact further, consider adding a compelling call-to-action at the end to prompt your followers to take action, such as \"Watch now!\" or \"Learn more here!\". This will encourage your audience to click on the video link or visit the blog post, increasing engagement and driving traffic to the content. Overall, this tweet is well-structured and effectively conveys the key message in a concise and engaging manner. Great job!', id='6dbcfcad-b0f5-47ba-b48f-f4a51bfcca52')]\n",
      "********************************************************************************\n"
     ]
    }
   ],
   "source": [
    "response = graph.invoke(inputs)"
   ]
  },
  {
   "cell_type": "code",
   "execution_count": 25,
   "id": "8c45d29b-bccc-4c4f-bc56-548806e59739",
   "metadata": {},
   "outputs": [
    {
     "data": {
      "text/plain": [
       "AIMessage(content=\"Exciting news! 🚀 @LangChainAI's new Tool Calling feature is a game-changer, simplifying agent implementation across different models. Check out their latest blog post video for all the details. #AI #tech #innovation #LangChainAI #blogpost #technews Watch now!\", response_metadata={'token_usage': {'completion_tokens': 62, 'prompt_tokens': 596, 'total_tokens': 658}, 'model_name': 'gpt-3.5-turbo', 'system_fingerprint': 'fp_a450710239', 'finish_reason': 'stop', 'logprobs': None}, id='run-74869bf7-54a4-40a7-beaf-7637f89b1e44-0')"
      ]
     },
     "execution_count": 25,
     "metadata": {},
     "output_type": "execute_result"
    }
   ],
   "source": [
    "response[-1]"
   ]
  },
  {
   "cell_type": "code",
   "execution_count": null,
   "id": "7334ff35-dee0-4600-ac14-72063c9b14cf",
   "metadata": {},
   "outputs": [],
   "source": []
  }
 ],
 "metadata": {
  "kernelspec": {
   "display_name": "Python 3 (ipykernel)",
   "language": "python",
   "name": "python3"
  },
  "language_info": {
   "codemirror_mode": {
    "name": "ipython",
    "version": 3
   },
   "file_extension": ".py",
   "mimetype": "text/x-python",
   "name": "python",
   "nbconvert_exporter": "python",
   "pygments_lexer": "ipython3",
   "version": "3.11.9"
  }
 },
 "nbformat": 4,
 "nbformat_minor": 5
}
