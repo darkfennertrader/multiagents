{
 "cells": [
  {
   "cell_type": "markdown",
   "id": "eb9fd68f-80ed-4308-8588-983f307776e2",
   "metadata": {},
   "source": [
    "# AI Agents with LangChain: the LangChain pitch"
   ]
  },
  {
   "cell_type": "markdown",
   "id": "e6891395-a401-414c-a78e-418dcbe18e80",
   "metadata": {},
   "source": [
    "## How LangChain sees Agents\n",
    "* LLM Apps interacting with the outside world in a variety of forms:\n",
    "    * Tool usage.\n",
    "        * Calendar management.\n",
    "        * Code generation.\n",
    "        * Online search.\n",
    "        * Etc.\n",
    "    * Memory.\n",
    "        * Short term.\n",
    "        * Long term. \n",
    "    * Planning.\n",
    "        * Reflection.\n",
    "        * Self-critics.\n",
    "        * Chain of thoughts.\n",
    "        * Subgoal decomposition. \n",
    "    * Taking actions.\n",
    " \n",
    "* Agents are like running an LLM App in a loop: repeat this cycle of tasks until you reach this desired goal."
   ]
  },
  {
   "cell_type": "markdown",
   "id": "8d139678-5899-42d5-b446-40337a39c064",
   "metadata": {},
   "source": [
    "## LangChain definitions: agents and copilots\n",
    "* Agents: turn your LLMs into reasoning engines that take action responsibly.\n",
    "* Build copilots that:\n",
    "    * Write first drafts.\n",
    "    * Act on your behalf.\n",
    "    * Wait for approval before execution."
   ]
  },
  {
   "cell_type": "markdown",
   "id": "213bfa71-248e-4195-b593-8bd0be0e8ae9",
   "metadata": {},
   "source": [
    "## The role of LangGraph for LangChain Agents.\n",
    "* Customize your Agent Runtime with LangGraph:\n",
    "    * Force call a tool.\n",
    "    * Wait for human-in-the-loop approval.\n",
    "    * Multiple agents collaborating on a common goal.\n",
    "    * Stream intermediate steps as they happen. \n",
    "* LangGraph puts you in control of the agent loop with easy primitives for:\n",
    "    * Tracking state.\n",
    "    * Cycles.\n",
    "    * Streaming.\n",
    "    * Human-in-the-loop reponse.\n",
    "* LangGraph can handle:\n",
    "    * Long tasks.\n",
    "    * Ambiguous inputs.\n",
    "    * And accomplish more consistently.\n",
    "* [Why LangGraph? The LangChain team explains the reasons for building LangGraph.](https://blog.langchain.dev/langgraph/)"
   ]
  },
  {
   "cell_type": "markdown",
   "id": "6fc7e8a2-4566-462c-a089-f9689d72404e",
   "metadata": {},
   "source": [
    "## Agents and Cognitive Architecture.\n",
    "* Choose the right cognitive architecture for your application:\n",
    "    * Plan-and-execute.\n",
    "    * Function calling.\n",
    "    * Critique revise.\n",
    "    * ReAct.\n",
    "    * Self-ask."
   ]
  },
  {
   "cell_type": "markdown",
   "id": "d41e4ab1-d46f-4ef5-bcad-cc4811fe8fa0",
   "metadata": {},
   "source": [
    "## Tools for LangChain Agents.\n",
    "* Tools for every task: LangChain offers an extensive library of off-the-shelf tools and an intuitive framework for customizing your own."
   ]
  },
  {
   "cell_type": "markdown",
   "id": "f507288c-70de-4785-98e6-92f7986fd672",
   "metadata": {},
   "source": [
    "## Evaluating LangChain Agents with LangSmith.\n",
    "* Debug agents with LangSmith:\n",
    "    * End-to-end trace observability.\n",
    "    * Tool selection visibility.\n",
    "    * Playground with prompt, model, and tool definition variability.\n",
    "    * Cost, latency, and error tracking.\n",
    "    * LLM evaluators for agent runs."
   ]
  },
  {
   "cell_type": "code",
   "execution_count": null,
   "id": "cefd4d93-2e1b-45f9-a08c-230dbfd5a13f",
   "metadata": {},
   "outputs": [],
   "source": []
  }
 ],
 "metadata": {
  "kernelspec": {
   "display_name": "Python 3 (ipykernel)",
   "language": "python",
   "name": "python3"
  },
  "language_info": {
   "codemirror_mode": {
    "name": "ipython",
    "version": 3
   },
   "file_extension": ".py",
   "mimetype": "text/x-python",
   "name": "python",
   "nbconvert_exporter": "python",
   "pygments_lexer": "ipython3",
   "version": "3.11.4"
  }
 },
 "nbformat": 4,
 "nbformat_minor": 5
}
