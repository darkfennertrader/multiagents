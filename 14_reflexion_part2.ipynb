{
 "cells": [
  {
   "cell_type": "code",
   "execution_count": 1,
   "id": "ef093192-8c3e-4671-84c6-db0384d7d785",
   "metadata": {},
   "outputs": [],
   "source": [
    "from datetime import datetime\n",
    "from typing import List, Sequence\n",
    "from config import OPENAI_API_KEY, TAVILY_API_KEY, LANGCHAIN_TRACING_V2, LANGCHAIN_API_KEY\n",
    "from langchain_core.prompts import ChatPromptTemplate, MessagesPlaceholder\n",
    "from langchain_core.messages import BaseMessage, HumanMessage\n",
    "from langchain_core.output_parsers.openai_tools import JsonOutputToolsParser, PydanticToolsParser\n",
    "from langgraph.graph import END, MessageGraph\n",
    "from langchain_openai import ChatOpenAI\n",
    "from schemas import AnswerQuestion, ReviseAnswer"
   ]
  },
  {
   "cell_type": "code",
   "execution_count": 2,
   "id": "d8039a8f-98ec-437a-8575-904b9dd94427",
   "metadata": {},
   "outputs": [],
   "source": [
    "llm = ChatOpenAI(model=\"gpt-4-turbo-2024-04-09\")\n",
    "# it takes the output from the llm and transform it into a dictionary\n",
    "parser = JsonOutputToolsParser(return_id=True)\n",
    "# it takes the output from the llm and transform it into an AnswerQuestion object\n",
    "parser_pydantic =  PydanticToolsParser(tools=[AnswerQuestion])"
   ]
  },
  {
   "cell_type": "code",
   "execution_count": 3,
   "id": "13312ed2-e65c-4884-813f-1ecadf1f145d",
   "metadata": {},
   "outputs": [],
   "source": [
    "actor_prompt_template = ChatPromptTemplate.from_messages(\n",
    "    [\n",
    "        (\"system\",\n",
    "        \"\"\"\n",
    "        You are an expert researcher.\n",
    "        Current time: {time}\n",
    "        \n",
    "        1. {first_instruction}\n",
    "        2. Reflect and Critique your answer. Be severe to maximize improvements.\n",
    "        3. Recommend search queries to research information and improve your answer.\"\"\",\n",
    "        ),\n",
    "        MessagesPlaceholder(variable_name=\"messages\"),\n",
    "        \n",
    "    ]\n",
    ").partial(time=lambda: datetime.now().isoformat())"
   ]
  },
  {
   "cell_type": "code",
   "execution_count": 4,
   "id": "46752e80-386b-4d2d-af93-bcd57b705b9d",
   "metadata": {},
   "outputs": [],
   "source": [
    "first_responder_prompt_template = actor_prompt_template.partial(first_instruction=\"Provide a detailed ~250 word answer.\")"
   ]
  },
  {
   "cell_type": "code",
   "execution_count": 5,
   "id": "cc075716-d12d-481a-b6b8-cbb49f558b8c",
   "metadata": {},
   "outputs": [],
   "source": [
    "first_responder = first_responder_prompt_template | llm.bind_tools(tools=[AnswerQuestion], tool_choice=\"AnswerQuestion\")"
   ]
  },
  {
   "cell_type": "code",
   "execution_count": 6,
   "id": "b08bc950-4e05-4178-a1b9-2f190d0815f6",
   "metadata": {},
   "outputs": [],
   "source": [
    "revise_instruction = \"\"\"\n",
    "Revise your previous answer using the new information.\n",
    "- You should use the previous critique to add important information to your answer.\n",
    "- You MUST include numerical citations in your revised answer to ensure it can be verified.\n",
    "- Add a \"References\" section to the bottom of your answer (which does not count towards the word limit) in the form of:\n",
    "    - [1] https://example.com\n",
    "    - [2] https://example.com\n",
    "- You should use the previous critique to remove superfluous information from your answer and make SURE it is not more than 250 words.\n",
    "\"\"\""
   ]
  },
  {
   "cell_type": "code",
   "execution_count": 8,
   "id": "26c5b6c1-f686-4591-a0aa-61aba1cf6735",
   "metadata": {},
   "outputs": [],
   "source": [
    "revisor = actor_prompt_template.partial(first_instruction=revise_instruction) | \\\n",
    "            llm.bind_tools(tools=[ReviseAnswer], tool_choice=\"ReviseAnswer\")"
   ]
  },
  {
   "cell_type": "code",
   "execution_count": null,
   "id": "abbae5bb-9abb-4bb3-a5e4-e79e71a51ec5",
   "metadata": {},
   "outputs": [],
   "source": [
    "human_message = HumanMessage(\n",
    "    content=\"Write about the use of LLM as a planner in Reinforcement Learning\")"
   ]
  },
  {
   "cell_type": "code",
   "execution_count": null,
   "id": "ad44f664-d6a4-4da9-8506-19823a1ad1f0",
   "metadata": {},
   "outputs": [],
   "source": [
    "chain =  first_responder_prompt_template |  llm.bind_tools(tools=[AnswerQuestion], tool_choice=\"AnswerQuestion\") | parser_pydantic"
   ]
  },
  {
   "cell_type": "code",
   "execution_count": null,
   "id": "75224992-9716-46f5-8dc1-f728ebf836d6",
   "metadata": {},
   "outputs": [],
   "source": [
    "res = chain.invoke(input={\"messages\": [human_message]})[0]"
   ]
  },
  {
   "cell_type": "code",
   "execution_count": null,
   "id": "b779e816-d16f-422a-93e0-d93494778f7d",
   "metadata": {},
   "outputs": [],
   "source": [
    "print(res)"
   ]
  },
  {
   "cell_type": "code",
   "execution_count": null,
   "id": "c5b337d9-b872-49b4-8627-3c12f98b2bc1",
   "metadata": {},
   "outputs": [],
   "source": [
    "res.answer"
   ]
  },
  {
   "cell_type": "code",
   "execution_count": null,
   "id": "17335f85-90c8-45a5-9f5d-840daeadca37",
   "metadata": {},
   "outputs": [],
   "source": [
    "res.reflection"
   ]
  },
  {
   "cell_type": "code",
   "execution_count": null,
   "id": "c60fece8-b62f-4412-b4fe-dd91814ec6fc",
   "metadata": {},
   "outputs": [],
   "source": [
    "res.search_queries"
   ]
  },
  {
   "cell_type": "code",
   "execution_count": null,
   "id": "2c6769b5-2fc9-4c87-865f-ece03a5fcdab",
   "metadata": {},
   "outputs": [],
   "source": []
  }
 ],
 "metadata": {
  "kernelspec": {
   "display_name": "Python 3 (ipykernel)",
   "language": "python",
   "name": "python3"
  },
  "language_info": {
   "codemirror_mode": {
    "name": "ipython",
    "version": 3
   },
   "file_extension": ".py",
   "mimetype": "text/x-python",
   "name": "python",
   "nbconvert_exporter": "python",
   "pygments_lexer": "ipython3",
   "version": "3.11.9"
  }
 },
 "nbformat": 4,
 "nbformat_minor": 5
}
