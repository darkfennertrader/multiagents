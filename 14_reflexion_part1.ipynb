{
 "cells": [
  {
   "cell_type": "code",
   "execution_count": 1,
   "id": "ef093192-8c3e-4671-84c6-db0384d7d785",
   "metadata": {},
   "outputs": [],
   "source": [
    "from datetime import datetime\n",
    "from typing import List, Sequence\n",
    "from config import OPENAI_API_KEY, TAVILY_API_KEY, LANGCHAIN_TRACING_V2, LANGCHAIN_API_KEY\n",
    "from langchain_core.prompts import ChatPromptTemplate, MessagesPlaceholder\n",
    "from langchain_core.messages import BaseMessage, HumanMessage\n",
    "from langchain_core.output_parsers.openai_tools import JsonOutputToolsParser, PydanticToolsParser\n",
    "from langgraph.graph import END, MessageGraph\n",
    "from langchain_openai import ChatOpenAI\n",
    "from schemas import AnswerQuestion"
   ]
  },
  {
   "cell_type": "code",
   "execution_count": 2,
   "id": "d8039a8f-98ec-437a-8575-904b9dd94427",
   "metadata": {},
   "outputs": [],
   "source": [
    "llm = ChatOpenAI(model=\"gpt-4-turbo-2024-04-09\")\n",
    "# it takes the output from the llm and transform it into a dictionary\n",
    "parser = JsonOutputToolsParser(return_id=True)\n",
    "# it takes the output from the llm and transform it into an AnswerQuestion object\n",
    "parser_pydantic =  PydanticToolsParser(tools=[AnswerQuestion])"
   ]
  },
  {
   "cell_type": "code",
   "execution_count": 3,
   "id": "13312ed2-e65c-4884-813f-1ecadf1f145d",
   "metadata": {},
   "outputs": [],
   "source": [
    "actor_prompt_template = ChatPromptTemplate.from_messages(\n",
    "    [\n",
    "        (\"system\",\n",
    "        \"\"\"\n",
    "        You are an expert researcher.\n",
    "        Current time: {time}\n",
    "        \n",
    "        1. {first_instruction}\n",
    "        2. Reflect and Critique your answer. Be severe to maximize improvements.\n",
    "        3. Recommend search queries to research information and improve your answer.\"\"\",\n",
    "        ),\n",
    "        MessagesPlaceholder(variable_name=\"messages\"),\n",
    "        \n",
    "    ]\n",
    ").partial(time=lambda: datetime.now().isoformat())"
   ]
  },
  {
   "cell_type": "code",
   "execution_count": 4,
   "id": "46752e80-386b-4d2d-af93-bcd57b705b9d",
   "metadata": {},
   "outputs": [],
   "source": [
    "first_responder_prompt_template = actor_prompt_template.partial(first_instruction=\"Provide a detailed ~500 word answer.\")"
   ]
  },
  {
   "cell_type": "code",
   "execution_count": 5,
   "id": "cc075716-d12d-481a-b6b8-cbb49f558b8c",
   "metadata": {},
   "outputs": [],
   "source": [
    "first_responder = first_responder_prompt_template | llm.bind_tools(tools=[AnswerQuestion], tool_choice=\"AnswerQuestion\")"
   ]
  },
  {
   "cell_type": "code",
   "execution_count": 6,
   "id": "abbae5bb-9abb-4bb3-a5e4-e79e71a51ec5",
   "metadata": {},
   "outputs": [],
   "source": [
    "human_message = HumanMessage(\n",
    "    content=\"Write an article on the latest trend of Generative AI\")"
   ]
  },
  {
   "cell_type": "code",
   "execution_count": 7,
   "id": "ad44f664-d6a4-4da9-8506-19823a1ad1f0",
   "metadata": {},
   "outputs": [],
   "source": [
    "chain =  first_responder_prompt_template |  llm.bind_tools(tools=[AnswerQuestion], tool_choice=\"AnswerQuestion\") | parser_pydantic"
   ]
  },
  {
   "cell_type": "code",
   "execution_count": 8,
   "id": "75224992-9716-46f5-8dc1-f728ebf836d6",
   "metadata": {},
   "outputs": [],
   "source": [
    "res = chain.invoke(input={\"messages\": [human_message]})"
   ]
  },
  {
   "cell_type": "code",
   "execution_count": 9,
   "id": "b779e816-d16f-422a-93e0-d93494778f7d",
   "metadata": {},
   "outputs": [
    {
     "name": "stdout",
     "output_type": "stream",
     "text": [
      "[AnswerQuestion(answer=\"Generative AI has recently been at the forefront of technological advancements, sparking significant interest across various sectors. This latest trend in artificial intelligence involves systems that can generate text, images, music, and other forms of media, essentially creating new content based on the data they have been trained on. The core technology behind this is often rooted in machine learning models like GANs (Generative Adversarial Networks) and transformers, which have shown remarkable ability in understanding and generating human-like content.\\n\\nOne of the most prominent examples of generative AI is OpenAI's ChatGPT, which has gained widespread attention for its ability to generate coherent and contextually appropriate text based on user prompts. This technology has not only transformed consumer applications but also has profound implications for businesses, enhancing automation and personalization in various industries including marketing, journalism, and entertainment.\\n\\nThe potential of generative AI extends beyond just creating text. In the realm of visual arts, AI-driven tools like DALL-E are capable of generating highly detailed and creative images from textual descriptions. This capability opens up new possibilities for graphic designers, advertisers, and even filmmakers, who can prototype ideas quickly and with less effort.\\n\\nMoreover, generative AI is influencing the music industry. AI systems are now able to compose music that resonates with human emotions and preferences, challenging the traditional boundaries of music creation. This has sparked debates about creativity and the role of AI in artistic expression.\\n\\nHowever, with the rise of generative AI, there are also significant ethical and legal challenges that need to be addressed. Issues such as copyright infringement, data privacy, and the authenticity of AI-generated content are at the forefront of discussions. It is crucial for policymakers, technology developers, and the public to engage in dialogue to establish guidelines that balance innovation with ethical considerations.\\n\\nAs generative AI continues to evolve, it is becoming increasingly integrated into our daily lives, offering both opportunities and challenges. The technology's ability to adapt and learn from vast amounts of data makes it a powerful tool, but it also necessitates careful consideration of its impact on society. The future of generative AI is promising, yet it requires a thoughtful approach to ensure it benefits humanity while mitigating potential risks.\", reflection=Reflection(missing='While the answer provides a broad overview of generative AI, it lacks specific recent developments or examples of cutting-edge applications. It could also benefit from more detailed discussion on the technical advancements and the specific AI models being used.', superfluous='The answer might be overly broad and generic, lacking depth in any particular aspect which could engage readers more effectively. Some of the general statements about the impact of generative AI could be considered as filler content.'), search_queries=['latest advancements in generative AI 2024', 'specific applications of generative AI in industries', 'technical details of AI models used in generative AI'])]\n"
     ]
    }
   ],
   "source": [
    "print(res)"
   ]
  },
  {
   "cell_type": "code",
   "execution_count": 10,
   "id": "c5b337d9-b872-49b4-8627-3c12f98b2bc1",
   "metadata": {},
   "outputs": [
    {
     "data": {
      "text/plain": [
       "\"Generative AI has recently been at the forefront of technological advancements, sparking significant interest across various sectors. This latest trend in artificial intelligence involves systems that can generate text, images, music, and other forms of media, essentially creating new content based on the data they have been trained on. The core technology behind this is often rooted in machine learning models like GANs (Generative Adversarial Networks) and transformers, which have shown remarkable ability in understanding and generating human-like content.\\n\\nOne of the most prominent examples of generative AI is OpenAI's ChatGPT, which has gained widespread attention for its ability to generate coherent and contextually appropriate text based on user prompts. This technology has not only transformed consumer applications but also has profound implications for businesses, enhancing automation and personalization in various industries including marketing, journalism, and entertainment.\\n\\nThe potential of generative AI extends beyond just creating text. In the realm of visual arts, AI-driven tools like DALL-E are capable of generating highly detailed and creative images from textual descriptions. This capability opens up new possibilities for graphic designers, advertisers, and even filmmakers, who can prototype ideas quickly and with less effort.\\n\\nMoreover, generative AI is influencing the music industry. AI systems are now able to compose music that resonates with human emotions and preferences, challenging the traditional boundaries of music creation. This has sparked debates about creativity and the role of AI in artistic expression.\\n\\nHowever, with the rise of generative AI, there are also significant ethical and legal challenges that need to be addressed. Issues such as copyright infringement, data privacy, and the authenticity of AI-generated content are at the forefront of discussions. It is crucial for policymakers, technology developers, and the public to engage in dialogue to establish guidelines that balance innovation with ethical considerations.\\n\\nAs generative AI continues to evolve, it is becoming increasingly integrated into our daily lives, offering both opportunities and challenges. The technology's ability to adapt and learn from vast amounts of data makes it a powerful tool, but it also necessitates careful consideration of its impact on society. The future of generative AI is promising, yet it requires a thoughtful approach to ensure it benefits humanity while mitigating potential risks.\""
      ]
     },
     "execution_count": 10,
     "metadata": {},
     "output_type": "execute_result"
    }
   ],
   "source": [
    "res[0].answer"
   ]
  },
  {
   "cell_type": "code",
   "execution_count": 11,
   "id": "17335f85-90c8-45a5-9f5d-840daeadca37",
   "metadata": {},
   "outputs": [
    {
     "data": {
      "text/plain": [
       "Reflection(missing='While the answer provides a broad overview of generative AI, it lacks specific recent developments or examples of cutting-edge applications. It could also benefit from more detailed discussion on the technical advancements and the specific AI models being used.', superfluous='The answer might be overly broad and generic, lacking depth in any particular aspect which could engage readers more effectively. Some of the general statements about the impact of generative AI could be considered as filler content.')"
      ]
     },
     "execution_count": 11,
     "metadata": {},
     "output_type": "execute_result"
    }
   ],
   "source": [
    "res[0].reflection"
   ]
  },
  {
   "cell_type": "code",
   "execution_count": 12,
   "id": "c60fece8-b62f-4412-b4fe-dd91814ec6fc",
   "metadata": {},
   "outputs": [
    {
     "data": {
      "text/plain": [
       "['latest advancements in generative AI 2024',\n",
       " 'specific applications of generative AI in industries',\n",
       " 'technical details of AI models used in generative AI']"
      ]
     },
     "execution_count": 12,
     "metadata": {},
     "output_type": "execute_result"
    }
   ],
   "source": [
    "res[0].search_queries"
   ]
  },
  {
   "cell_type": "code",
   "execution_count": null,
   "id": "2c6769b5-2fc9-4c87-865f-ece03a5fcdab",
   "metadata": {},
   "outputs": [],
   "source": []
  }
 ],
 "metadata": {
  "kernelspec": {
   "display_name": "Python 3 (ipykernel)",
   "language": "python",
   "name": "python3"
  },
  "language_info": {
   "codemirror_mode": {
    "name": "ipython",
    "version": 3
   },
   "file_extension": ".py",
   "mimetype": "text/x-python",
   "name": "python",
   "nbconvert_exporter": "python",
   "pygments_lexer": "ipython3",
   "version": "3.11.9"
  }
 },
 "nbformat": 4,
 "nbformat_minor": 5
}
