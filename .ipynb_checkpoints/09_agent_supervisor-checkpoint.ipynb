{
 "cells": [
  {
   "cell_type": "code",
   "execution_count": 1,
   "id": "e7692abc-af91-46d0-a582-69c394d01298",
   "metadata": {},
   "outputs": [],
   "source": [
    "from config import OPENAI_API_KEY, TAVILY_API_KEY, LANGCHAIN_TRACING_V2, LANGCHAIN_API_KEY"
   ]
  },
  {
   "cell_type": "code",
   "execution_count": 2,
   "id": "365d54f9-da10-43af-ade5-a0cc82a05bd2",
   "metadata": {},
   "outputs": [],
   "source": [
    "from typing import Annotated, List, Tuple, Union\n",
    "\n",
    "from langchain_community.tools.tavily_search import TavilySearchResults\n",
    "from langchain_core.tools import tool\n",
    "from langchain_experimental.tools import PythonREPLTool\n",
    "\n",
    "tavily_tool = TavilySearchResults(max_results=5)\n",
    "\n",
    "# This executes code locally, which can be unsafe\n",
    "python_repl_tool = PythonREPLTool()"
   ]
  },
  {
   "cell_type": "code",
   "execution_count": 3,
   "id": "ea55bc46-09fd-4945-97c7-5852408002bd",
   "metadata": {},
   "outputs": [],
   "source": [
    "from langchain.agents import AgentExecutor, create_openai_tools_agent\n",
    "from langchain_core.messages import BaseMessage, HumanMessage\n",
    "from langchain_openai import ChatOpenAI\n",
    "\n",
    "\n",
    "def create_agent(llm: ChatOpenAI, tools: list, system_prompt: str):\n",
    "    # Each worker node will be given a name and some tools.\n",
    "    prompt = ChatPromptTemplate.from_messages(\n",
    "        [\n",
    "            (\n",
    "                \"system\",\n",
    "                system_prompt,\n",
    "            ),\n",
    "            MessagesPlaceholder(variable_name=\"messages\"),\n",
    "            MessagesPlaceholder(variable_name=\"agent_scratchpad\"),\n",
    "        ]\n",
    "    )\n",
    "    agent = create_openai_tools_agent(llm, tools, prompt)\n",
    "    executor = AgentExecutor(agent=agent, tools=tools)\n",
    "    return executor"
   ]
  },
  {
   "cell_type": "code",
   "execution_count": 4,
   "id": "db85109f-7d35-44da-89a8-d6854d9b8be9",
   "metadata": {},
   "outputs": [],
   "source": [
    "def agent_node(state, agent, name):\n",
    "    result = agent.invoke(state)\n",
    "    return {\"messages\": [HumanMessage(content=result[\"output\"], name=name)]}"
   ]
  },
  {
   "cell_type": "markdown",
   "id": "abc783de-4bd4-4244-934e-87f7341ae986",
   "metadata": {},
   "source": [
    "Create Agent Supervisor\n",
    "It will use function calling to choose the next worker node OR finish processing."
   ]
  },
  {
   "cell_type": "code",
   "execution_count": 5,
   "id": "b2e1049d-24f4-45bc-8862-a6c79f751092",
   "metadata": {},
   "outputs": [],
   "source": [
    "from langchain.output_parsers.openai_functions import JsonOutputFunctionsParser\n",
    "from langchain_core.prompts import ChatPromptTemplate, MessagesPlaceholder\n",
    "\n",
    "members = [\"Researcher\", \"Coder\"]\n",
    "system_prompt = (\n",
    "    \"You are a supervisor tasked with managing a conversation between the\"\n",
    "    \" following workers:  {members}. Given the following user request,\"\n",
    "    \" respond with the worker to act next. Each worker will perform a\"\n",
    "    \" task and respond with their results and status. When finished,\"\n",
    "    \" respond with FINISH.\"\n",
    ")\n",
    "# Our team supervisor is an LLM node. It just picks the next agent to process\n",
    "# and decides when the work is completed\n",
    "options = [\"FINISH\"] + members\n",
    "# Using openai function calling can make output parsing easier for us\n",
    "function_def = {\n",
    "    \"name\": \"route\",\n",
    "    \"description\": \"Select the next role.\",\n",
    "    \"parameters\": {\n",
    "        \"title\": \"routeSchema\",\n",
    "        \"type\": \"object\",\n",
    "        \"properties\": {\n",
    "            \"next\": {\n",
    "                \"title\": \"Next\",\n",
    "                \"anyOf\": [\n",
    "                    {\"enum\": options},\n",
    "                ],\n",
    "            }\n",
    "        },\n",
    "        \"required\": [\"next\"],\n",
    "    },\n",
    "}\n",
    "prompt = ChatPromptTemplate.from_messages(\n",
    "    [\n",
    "        (\"system\", system_prompt),\n",
    "        MessagesPlaceholder(variable_name=\"messages\"),\n",
    "        (\n",
    "            \"system\",\n",
    "            \"Given the conversation above, who should act next?\"\n",
    "            \" Or should we FINISH? Select one of: {options}\",\n",
    "        ),\n",
    "    ]\n",
    ").partial(options=str(options), members=\", \".join(members))\n",
    "\n",
    "llm = ChatOpenAI(model=\"gpt-4-1106-preview\")\n",
    "\n",
    "supervisor_chain = (\n",
    "    prompt\n",
    "    | llm.bind_functions(functions=[function_def], function_call=\"route\")\n",
    "    | JsonOutputFunctionsParser()\n",
    ")"
   ]
  },
  {
   "cell_type": "code",
   "execution_count": 7,
   "id": "1c7f6d65-7ef9-474a-a552-059d164eca61",
   "metadata": {},
   "outputs": [],
   "source": [
    "import operator\n",
    "from typing import Annotated, Any, Dict, List, Optional, Sequence, TypedDict\n",
    "import functools\n",
    "\n",
    "from langchain_core.prompts import ChatPromptTemplate, MessagesPlaceholder\n",
    "from langgraph.graph import StateGraph, END\n",
    "\n",
    "\n",
    "# The agent state is the input to each node in the graph\n",
    "class AgentState(TypedDict):\n",
    "    # The annotation tells the graph that new messages will always\n",
    "    # be added to the current states\n",
    "    messages: Annotated[Sequence[BaseMessage], operator.add]\n",
    "    # The 'next' field indicates where to route to next\n",
    "    next: str\n",
    "\n",
    "\n",
    "research_agent = create_agent(llm, [tavily_tool], \"You are a web researcher.\")\n",
    "research_node = functools.partial(agent_node, agent=research_agent, name=\"Researcher\")\n",
    "\n",
    "# NOTE: THIS PERFORMS ARBITRARY CODE EXECUTION. PROCEED WITH CAUTION\n",
    "code_agent = create_agent(\n",
    "    llm,\n",
    "    [python_repl_tool],\n",
    "    \"You may generate safe python code to analyze data and generate charts using matplotlib.\",\n",
    ")\n",
    "code_node = functools.partial(agent_node, agent=code_agent, name=\"Coder\")\n",
    "\n",
    "workflow = StateGraph(AgentState)\n",
    "workflow.add_node(\"Researcher\", research_node)\n",
    "workflow.add_node(\"Coder\", code_node)\n",
    "workflow.add_node(\"supervisor\", supervisor_chain)\n"
   ]
  },
  {
   "cell_type": "code",
   "execution_count": 8,
   "id": "1a064736-f761-4447-934a-1f8976ccf3d3",
   "metadata": {},
   "outputs": [],
   "source": [
    "for member in members:\n",
    "    # We want our workers to ALWAYS \"report back\" to the supervisor when done\n",
    "    workflow.add_edge(member, \"supervisor\")\n",
    "# The supervisor populates the \"next\" field in the graph state\n",
    "# which routes to a node or finishes\n",
    "conditional_map = {k: k for k in members}\n",
    "conditional_map[\"FINISH\"] = END\n",
    "workflow.add_conditional_edges(\"supervisor\", lambda x: x[\"next\"], conditional_map)\n",
    "# Finally, add entrypoint\n",
    "workflow.set_entry_point(\"supervisor\")\n",
    "\n",
    "graph = workflow.compile()"
   ]
  },
  {
   "cell_type": "code",
   "execution_count": 9,
   "id": "53cb3dfd-b198-4f0f-bcd9-482bc9e28c45",
   "metadata": {},
   "outputs": [
    {
     "name": "stdout",
     "output_type": "stream",
     "text": [
      "{'supervisor': {'next': 'Coder'}}\n",
      "----\n"
     ]
    },
    {
     "name": "stderr",
     "output_type": "stream",
     "text": [
      "Python REPL can execute arbitrary code. Use with caution.\n"
     ]
    },
    {
     "name": "stdout",
     "output_type": "stream",
     "text": [
      "{'Coder': {'messages': [HumanMessage(content=\"The code `print('Hello, World!')` was executed, and it printed `Hello, World!` to the terminal.\", name='Coder')]}}\n",
      "----\n",
      "{'supervisor': {'next': 'FINISH'}}\n",
      "----\n"
     ]
    }
   ],
   "source": [
    "for s in graph.stream(\n",
    "    {\n",
    "        \"messages\": [\n",
    "            HumanMessage(content=\"Code hello world and print it to the terminal\")\n",
    "        ]\n",
    "    }\n",
    "):\n",
    "    if \"__end__\" not in s:\n",
    "        print(s)\n",
    "        print(\"----\")"
   ]
  },
  {
   "cell_type": "code",
   "execution_count": 10,
   "id": "abb87dbd-9867-4ec4-ad28-2a58a897dadc",
   "metadata": {},
   "outputs": [
    {
     "name": "stdout",
     "output_type": "stream",
     "text": [
      "{'supervisor': {'next': 'Researcher'}}\n",
      "----\n",
      "{'Researcher': {'messages': [HumanMessage(content='## Research Report on Pikas\\n\\n### Introduction\\nPikas are small, herbivorous mammals that inhabit mountainous regions and display remarkable adaptations to cold climates. They are recognized by their short legs, rounded ears, and absence of a noticeable tail. Belonging to the order Lagomorpha, they are closely related to rabbits and hares.\\n\\n### Distribution and Habitat\\nPikas primarily live in the mountains of western North America and much of Asia. Species such as the American pika (Ochotona princeps) and the collared pika (O. collaris) are found in alpine regions above the tree line in North America. In Asia, species like the northern pika (O. hyperborea) range from the Ural Mountains to Japan. They are adapted to life in rocky, windswept terrains and can survive in alpine environments throughout their lives.\\n\\n### Behavior and Diet\\nPikas do not hibernate and remain active during the winter. They travel in tunnels beneath rocks and snow and feed on dried plants that they have previously collected in a process known as \"haying.\" Pikas forage for grasses and other plant matter, often stashing food in dens for the winter months. They are known to have two foraging strategies: direct consumption and gathering plants for storage.\\n\\n### Social Structure\\nEurasian pikas commonly live in family groups and share responsibilities such as gathering food and keeping watch. In contrast, American pikas are typically solitary except during the breeding season.\\n\\n### Conservation Status\\nThe impact of climate change poses a significant threat to pikas, with many populations exhibiting declines. Pikas are sensitive to high temperatures, and increased warmth can reduce their foraging time and push them to move to higher elevations in search of cooler habitats. While some populations have been extirpated, the American pika was considered but not listed under the US Endangered Species Act as of 2010.\\n\\n### Conclusion\\nPikas are a key indicator species for monitoring the effects of climate change in alpine ecosystems. Their unique adaptations to cold climates and their role in the mountain ecosystems make them an important subject of conservation efforts. Continued monitoring and research are crucial to understanding the challenges pikas face and to protect these resilient yet vulnerable creatures.\\n\\n### References\\n- National Park Service: [Pikas Resource Brief](https://www.nps.gov/articles/pikas-brief.htm)\\n- National Wildlife Federation: [American Pika](https://www.nwf.org/Educational-Resources/Wildlife-Guide/Mammals/American-Pika)\\n- Encyclopædia Britannica: [Pika](https://www.britannica.com/animal/pika)\\n- Wikipedia: [Pika](https://en.wikipedia.org/wiki/Pika), [American pika](https://en.wikipedia.org/wiki/American_pika)\\n\\nFor more detailed information, please visit the provided references.', name='Researcher')]}}\n",
      "----\n",
      "{'supervisor': {'next': 'FINISH'}}\n",
      "----\n"
     ]
    }
   ],
   "source": [
    "for s in graph.stream(\n",
    "    {\"messages\": [HumanMessage(content=\"Write a brief research report on pikas.\")]},\n",
    "    {\"recursion_limit\": 100},\n",
    "):\n",
    "    if \"__end__\" not in s:\n",
    "        print(s)\n",
    "        print(\"----\")"
   ]
  },
  {
   "cell_type": "code",
   "execution_count": 11,
   "id": "58a3a806-307e-4980-808c-cb1c0ea7adb1",
   "metadata": {},
   "outputs": [
    {
     "name": "stdout",
     "output_type": "stream",
     "text": [
      "{'supervisor': {'next': 'Researcher'}}\n",
      "----\n",
      "{'Researcher': {'messages': [HumanMessage(content=\"### Research Report: Italian Market for Shipping (2023)\\n\\n#### Overview\\nThe Italian shipping market is a critical component of the country's logistics and trade infrastructure. In 2023, the global maritime trade continued to expand, with a 3.2 percent growth in the fleet size. The fleet comprised 105,493 vessels of 100 gross tons and above, with oil tankers, bulk carriers, and container ships representing 85 percent of the total capacity. This suggests that the Italian market is likely influenced by global trends in maritime transportation.\\n\\n#### E-commerce Impact\\nThe Italian e-commerce market saw a decline of 8.55% year-over-year in 2022, affecting all subsegments. However, the first quarter of 2023 showed a surge in Italian food and beverage exports, notably a 3.9% growth in wine exports. This indicates a potential rebound in demand for shipping services, particularly for the export sector.\\n\\n#### Container Shipping\\nThe container shipping market in 2023 experienced a normalization of freight rates, returning to pre-pandemic levels on most routes. MSC, a Swiss-Italian shipping company, adopted an aggressive rates policy to gain additional market share. Such strategic moves by key players in the industry are shaping the competitive landscape and could have significant implications for shipping rates and services in Italy.\\n\\n#### Logistics Sector Challenges\\nThe logistics sector in Italy faced market challenges, with investments in Q3 2023 dropping by 40% compared to the same period in 2022. Despite this, logistic absorption remained a key driver for the asset class expansion, with Q3 2023 recording some of the highest take-ups ever. This suggests resilience in the logistics sector, which is essential for the shipping industry.\\n\\n#### Operational Costs\\nFuel prices and rising driver wages due to a shortage of truck drivers are impacting trucking operational costs in Italy. These increased costs may affect the competitiveness of the shipping sector, potentially leading to higher shipping rates and influencing the choice of transport modes.\\n\\n#### Conclusion\\nThe Italian shipping market is navigating through a period of adjustment influenced by global trends, e-commerce dynamics, and operational challenges. The market is responding to shifts in demand and competitive pressures, with key players like MSC taking bold steps to capture market share. While investments in logistics have decreased, the sector's resilience suggests a continuing demand for shipping services. However, operational costs remain a concern and could shape the future of the market.\\n\\n#### Sources\\n- [UNCTAD - Review of Maritime Transport 2023](https://unctad.org/system/files/official-document/rmt2023ch2_en.pdf)\\n- [Mordor Intelligence - Italy Freight and Logistics Market](https://www.mordorintelligence.com/industry-reports/italy-freight-and-logistics-market)\\n- [Upply - Container Shipping in 2023](https://market-insights.upply.com/en/container-shipping-in-2023)\\n- [Colliers - Logistics Market Overview Q3](https://www.colliers.com/en-it/research/logistics_market_overview_q3)\", name='Researcher')]}}\n",
      "----\n",
      "{'supervisor': {'next': 'FINISH'}}\n",
      "----\n"
     ]
    }
   ],
   "source": [
    "for s in graph.stream(\n",
    "    {\"messages\": [HumanMessage(content=\"Write a brief research report on italian market for shipping.\")]},\n",
    "    {\"recursion_limit\": 100},\n",
    "):\n",
    "    if \"__end__\" not in s:\n",
    "        print(s)\n",
    "        print(\"----\")"
   ]
  },
  {
   "cell_type": "code",
   "execution_count": 12,
   "id": "8d905d8c-f38d-4ac2-a5de-e4a15837b82e",
   "metadata": {},
   "outputs": [
    {
     "name": "stdout",
     "output_type": "stream",
     "text": [
      "{'supervisor': {'next': 'Researcher'}}\n",
      "----\n",
      "{'Researcher': {'messages': [HumanMessage(content='The latest news on the situation between Iran and Israel suggests heightened tensions and anticipation of a possible attack:\\n\\n1. Israel has activated additional air defense units and troops in preparation for a potential attack from Iran or its proxy groups in the region. The Israeli army\\'s chief spokesman indicated that an attack from Iranian territory would be a clear sign of Iranian intentions. [Read more on AP News](https://apnews.com/article/israel-hamas-war-latest-04-11-2024-9774f91ef80126e580ea5a9b3b84eb74)\\n\\n2. Iran has warned the United States through intermediaries that if the U.S. becomes involved in any conflict between Israel and Iran, U.S. forces in the region could be targeted. This follows an Israeli airstrike in Damascus that killed a top Iranian general. [Read more on Axios](https://www.axios.com/2024/04/12/iran-israel-attack-us-troops-warning)\\n\\n3. The White House is on high alert for a possible Iranian attack against Israel, with concerns that such an event could happen within hours. [Read more on CBS News](https://www.cbsnews.com/news/israel-iran-hamas-war-us-travel-warning-middle-east-conflict/)\\n\\n4. The U.S. expects Iran to carry out strikes against multiple targets inside Israel, with the possibility of Iranian proxies also being involved in the attacks. [Read more on CNN](https://www.cnn.com/middleeast/live-news/israel-hamas-war-gaza-news-04-12-24/index.html)\\n\\n5. President Joe Biden has stated that he expects an Iranian attack on Israel \"sooner rather than later\" and has urged Tehran to show restraint. [Read more on The Guardian](https://www.theguardian.com/world/2024/apr/12/france-diplomats-families-iran-israel-travel-warnings)\\n\\nPlease note that the situation is dynamic and may change rapidly. It is advisable to follow the news closely for the most up-to-date information.', name='Researcher')]}}\n",
      "----\n",
      "{'supervisor': {'next': 'FINISH'}}\n",
      "----\n"
     ]
    }
   ],
   "source": [
    "for s in graph.stream(\n",
    "    {\"messages\": [HumanMessage(content=\"Tell me the latest news about the imminent attack of Iran to Israel\")]},\n",
    "    {\"recursion_limit\": 100},\n",
    "):\n",
    "    if \"__end__\" not in s:\n",
    "        print(s)\n",
    "        print(\"----\")"
   ]
  },
  {
   "cell_type": "code",
   "execution_count": null,
   "id": "0be134db-d919-44f0-bb6d-35a6d00f31f7",
   "metadata": {},
   "outputs": [],
   "source": []
  },
  {
   "cell_type": "code",
   "execution_count": null,
   "id": "3d5c2f5a-df7e-4be0-bca3-3d2ffec0329d",
   "metadata": {},
   "outputs": [],
   "source": []
  }
 ],
 "metadata": {
  "kernelspec": {
   "display_name": "Python 3 (ipykernel)",
   "language": "python",
   "name": "python3"
  },
  "language_info": {
   "codemirror_mode": {
    "name": "ipython",
    "version": 3
   },
   "file_extension": ".py",
   "mimetype": "text/x-python",
   "name": "python",
   "nbconvert_exporter": "python",
   "pygments_lexer": "ipython3",
   "version": "3.11.8"
  }
 },
 "nbformat": 4,
 "nbformat_minor": 5
}
