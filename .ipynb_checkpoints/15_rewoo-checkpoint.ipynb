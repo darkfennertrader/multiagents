{
 "cells": [
  {
   "cell_type": "code",
   "execution_count": 1,
   "id": "19ea47cf-8ac0-4ae6-a09a-e6659094926b",
   "metadata": {},
   "outputs": [],
   "source": [
    "#from config import OPENAI_API_KEY, TAVILY_API_KEY, LANGCHAIN_TRACING_V2, LANGCHAIN_API_KEY"
   ]
  },
  {
   "cell_type": "code",
   "execution_count": 40,
   "id": "4b2352b9-cb9e-4534-b5e9-a8916500bd93",
   "metadata": {},
   "outputs": [],
   "source": [
    "from config import OPENAI_API_KEY, TAVILY_API_KEY"
   ]
  },
  {
   "cell_type": "code",
   "execution_count": 43,
   "id": "464f56d5-a809-4a8e-a478-887e9c559487",
   "metadata": {},
   "outputs": [],
   "source": [
    "import re\n",
    "from langchain_core.prompts import ChatPromptTemplate\n",
    "from typing import TypedDict, List\n",
    "from langchain_openai import ChatOpenAI\n",
    "from langgraph.graph import StateGraph, END\n",
    "from langchain_community.tools.tavily_search import TavilySearchResults"
   ]
  },
  {
   "cell_type": "code",
   "execution_count": 44,
   "id": "2374e8a8-4828-4ae8-867c-ba74f0e34909",
   "metadata": {},
   "outputs": [],
   "source": [
    "search = TavilySearchResults()\n",
    "model = ChatOpenAI(model=\"gpt-4-turbo-2024-04-09\", temperature=.3)"
   ]
  },
  {
   "cell_type": "code",
   "execution_count": 45,
   "id": "40187dbc-5cde-4527-a333-4bb9defd8618",
   "metadata": {},
   "outputs": [],
   "source": [
    "class ReWOO(TypedDict):\n",
    "    task: str\n",
    "    plan_string: str\n",
    "    steps: List\n",
    "    results: dict\n",
    "    result: str"
   ]
  },
  {
   "cell_type": "code",
   "execution_count": 46,
   "id": "6809ac01-6ded-4104-ae27-01d2950f45db",
   "metadata": {},
   "outputs": [],
   "source": [
    "prompt = \"\"\"For the following task, make plans that can solve the problem step by step. For each plan, indicate \\\n",
    "which external tool together with tool input to retrieve evidence. You can store the evidence into a \\\n",
    "variable #E that can be called by later tools. (Plan, #E1, Plan, #E2, Plan, ...)\n",
    "\n",
    "Tools can be one of the following:\n",
    "(1) Google[input]: Worker that searches results from Google. Useful when you need to find short\n",
    "and succinct answers about a specific topic. The input should be a search query.\n",
    "(2) LLM[input]: A pretrained LLM like yourself. Useful when you need to act with general\n",
    "world knowledge and common sense. Prioritize it when you are confident in solving the problem\n",
    "yourself. Input can be any instruction.\n",
    "\n",
    "For example,\n",
    "Task: Thomas, Toby, and Rebecca worked a total of 157 hours in one week. Thomas worked x\n",
    "hours. Toby worked 10 hours less than twice what Thomas worked, and Rebecca worked 8 hours\n",
    "less than Toby. How many hours did Rebecca work?\n",
    "Plan: Given Thomas worked x hours, translate the problem into algebraic expressions and solve\n",
    "with Wolfram Alpha. #E1 = WolframAlpha[Solve x + (2x − 10) + ((2x − 10) − 8) = 157]\n",
    "Plan: Find out the number of hours Thomas worked. #E2 = LLM[What is x, given #E1]\n",
    "Plan: Calculate the number of hours Rebecca worked. #E3 = Calculator[(2 ∗ #E2 − 10) − 8]\n",
    "\n",
    "Begin! \n",
    "Describe your plans with rich details. Each Plan should be followed by only one #E.\n",
    "\n",
    "Task: {task}\"\"\""
   ]
  },
  {
   "cell_type": "code",
   "execution_count": 47,
   "id": "1a89dbe6-3348-483c-bcd4-f6323a273635",
   "metadata": {},
   "outputs": [],
   "source": [
    "task = \"What are the main methods used in Causal Inference for time series. \\\n",
    "        Enumerate them and describe three pros and three cons for each of them.\""
   ]
  },
  {
   "cell_type": "code",
   "execution_count": 48,
   "id": "91669dea-1165-487f-9bb3-44f2fcd86760",
   "metadata": {},
   "outputs": [],
   "source": [
    "#task=\"what is the hometown of the 2024 australian open winner\""
   ]
  },
  {
   "cell_type": "code",
   "execution_count": 49,
   "id": "84962597-cd86-49a2-9d99-b89dd218d111",
   "metadata": {},
   "outputs": [],
   "source": [
    "result = model.invoke(prompt.format(task=task))"
   ]
  },
  {
   "cell_type": "code",
   "execution_count": 50,
   "id": "ebbef6f9-76b4-48a0-99c4-c4f22754e7d2",
   "metadata": {},
   "outputs": [
    {
     "name": "stdout",
     "output_type": "stream",
     "text": [
      "Plan: Use Google to find a reliable source or article that lists the main methods used in causal inference for time series. \n",
      "#E1 = Google[\"main methods used in causal inference for time series\"]\n",
      "\n",
      "Plan: Extract detailed information about each method mentioned in #E1, including their advantages and disadvantages.\n",
      "#E2 = LLM[Describe each method found in #E1 and list three pros and three cons for each method]\n",
      "\n",
      "By following these plans, we can efficiently gather and process the required information about causal inference methods for time series, detailing their strengths and weaknesses.\n"
     ]
    }
   ],
   "source": [
    "print(result.content)"
   ]
  },
  {
   "cell_type": "code",
   "execution_count": 51,
   "id": "e88ace85-36d3-414a-9143-17c7fb7045db",
   "metadata": {},
   "outputs": [],
   "source": [
    "# Regex to match expressions of the form E#... = ...[...]\n",
    "regex_pattern = r\"Plan:\\s*(.+)\\s*(#E\\d+)\\s*=\\s*(\\w+)\\s*\\[([^\\]]+)\\]\"\n",
    "prompt_template = ChatPromptTemplate.from_messages([(\"user\", prompt)])\n",
    "planner = prompt_template | model\n",
    "\n",
    "\n",
    "def get_plan(state: ReWOO):\n",
    "    task = state[\"task\"]\n",
    "    result = planner.invoke({\"task\": task})\n",
    "    # Find all matches in the sample text\n",
    "    matches = re.findall(regex_pattern, result.content)\n",
    "    return {\"steps\": matches, \"plan_string\": result.content}"
   ]
  },
  {
   "cell_type": "code",
   "execution_count": 52,
   "id": "950c97c7-d620-4eff-857b-cea7a8fced93",
   "metadata": {},
   "outputs": [],
   "source": [
    "content = 'Plan: Search for the main methods used in causal inference for time series data. \\\n",
    "\\n#E1 = Google[\"main methods used in causal inference for time series\"] \\\n",
    "\\n\\nPlan: Use the list of methods obtained from #E1 to get a detailed description of each method, including three pros and three cons. \\\n",
    "\\n#E2 = LLM[Describe each method listed in #E1 and provide three pros and three cons for each method]'"
   ]
  },
  {
   "cell_type": "code",
   "execution_count": 53,
   "id": "a951bb4b-c048-467e-afb1-15473546f6d0",
   "metadata": {},
   "outputs": [],
   "source": [
    "#content='Plan: Use Google to search for the hometown of the 2024 Australian Open winner. #E1 = Google[2024 Australian Open winner hometown]'"
   ]
  },
  {
   "cell_type": "code",
   "execution_count": 54,
   "id": "61a5ca1b-848a-4816-bc2e-64f6928dc218",
   "metadata": {},
   "outputs": [],
   "source": [
    " matches = re.findall(regex_pattern, content)"
   ]
  },
  {
   "cell_type": "code",
   "execution_count": 55,
   "id": "fd67289b-4b3a-45be-9ce5-5e188fcb7bdc",
   "metadata": {},
   "outputs": [
    {
     "name": "stdout",
     "output_type": "stream",
     "text": [
      "[('Search for the main methods used in causal inference for time series data. ', '#E1', 'Google', '\"main methods used in causal inference for time series\"'), ('Use the list of methods obtained from #E1 to get a detailed description of each method, including three pros and three cons. ', '#E2', 'LLM', 'Describe each method listed in #E1 and provide three pros and three cons for each method')]\n"
     ]
    }
   ],
   "source": [
    "print(matches)"
   ]
  },
  {
   "cell_type": "code",
   "execution_count": 56,
   "id": "6910420d-e94b-4a48-a748-559f6b89391a",
   "metadata": {},
   "outputs": [
    {
     "name": "stdout",
     "output_type": "stream",
     "text": [
      "('Search for the main methods used in causal inference for time series data. ', '#E1', 'Google', '\"main methods used in causal inference for time series\"')\n",
      "('Use the list of methods obtained from #E1 to get a detailed description of each method, including three pros and three cons. ', '#E2', 'LLM', 'Describe each method listed in #E1 and provide three pros and three cons for each method')\n"
     ]
    }
   ],
   "source": [
    "for match in matches:\n",
    "    print(match)"
   ]
  },
  {
   "cell_type": "code",
   "execution_count": 57,
   "id": "b7683265-39c5-4135-b8c9-1e3c983e3ac8",
   "metadata": {},
   "outputs": [],
   "source": [
    "def _get_current_task(state: ReWOO):\n",
    "    if state[\"results\"] is None:\n",
    "        return 1\n",
    "    if len(state[\"results\"]) == len(state[\"steps\"]):\n",
    "        return None\n",
    "    else:\n",
    "        return len(state[\"results\"]) + 1\n",
    "\n",
    "\n",
    "def tool_execution(state: ReWOO):\n",
    "    \"\"\"Worker node that executes the tools of a given plan.\"\"\"\n",
    "    _step = _get_current_task(state)\n",
    "    _, step_name, tool, tool_input = state[\"steps\"][_step - 1]\n",
    "    _results = state[\"results\"] or {}\n",
    "    for k, v in _results.items():\n",
    "        tool_input = tool_input.replace(k, v)\n",
    "    if tool == \"Google\":\n",
    "        result = search.invoke(tool_input)\n",
    "    elif tool == \"LLM\":\n",
    "        result = model.invoke(tool_input)\n",
    "    else:\n",
    "        raise ValueError\n",
    "    _results[step_name] = str(result)\n",
    "    return {\"results\": _results}"
   ]
  },
  {
   "cell_type": "code",
   "execution_count": 58,
   "id": "124e759c-86d6-4215-9f3c-6f30f56df57e",
   "metadata": {},
   "outputs": [],
   "source": [
    "solve_prompt = \"\"\"Solve the following task or problem. \\\n",
    "To solve the problem, we have made step-by-step Plan and \\\n",
    "retrieved corresponding Evidence to each Plan. \\\n",
    "Use them with caution since long evidence might contain irrelevant information.\n",
    "\n",
    "{plan}\n",
    "\n",
    "Now solve the question or task according to provided Evidence above. Respond with the answer\n",
    "directly with no extra words.\n",
    "\n",
    "Task: {task}\n",
    "Response:\"\"\"\n",
    "\n",
    "\n",
    "def solve(state: ReWOO):\n",
    "    plan = \"\"\n",
    "    for _plan, step_name, tool, tool_input in state[\"steps\"]:\n",
    "        _results = state[\"results\"] or {}\n",
    "        for k, v in _results.items():\n",
    "            tool_input = tool_input.replace(k, v)\n",
    "            step_name = step_name.replace(k, v)\n",
    "        plan += f\"Plan: {_plan}\\n{step_name} = {tool}[{tool_input}]\"\n",
    "    prompt = solve_prompt.format(plan=plan, task=state[\"task\"])\n",
    "    result = model.invoke(prompt)\n",
    "    return {\"result\": result.content}"
   ]
  },
  {
   "cell_type": "code",
   "execution_count": 19,
   "id": "6db4f248-eecc-468e-abb1-e03a73b86052",
   "metadata": {},
   "outputs": [],
   "source": [
    "def _route(state):\n",
    "    _step = _get_current_task(state)\n",
    "    if _step is None:\n",
    "        # We have executed all tasks\n",
    "        return \"solve\"\n",
    "    else:\n",
    "        # We are still executing tasks, loop back to the \"tool\" node\n",
    "        return \"tool\""
   ]
  },
  {
   "cell_type": "code",
   "execution_count": 20,
   "id": "497443e8-4687-48b5-b206-86af40c022ae",
   "metadata": {},
   "outputs": [],
   "source": [
    "graph = StateGraph(ReWOO)\n",
    "graph.add_node(\"plan\", get_plan)\n",
    "graph.add_node(\"tool\", tool_execution)\n",
    "graph.add_node(\"solve\", solve)\n",
    "graph.add_edge(\"plan\", \"tool\")\n",
    "graph.add_edge(\"solve\", END)\n",
    "graph.add_conditional_edges(\"tool\", _route)\n",
    "graph.set_entry_point(\"plan\")\n",
    "\n",
    "app = graph.compile()"
   ]
  },
  {
   "cell_type": "code",
   "execution_count": 21,
   "id": "18193a98-acdf-4185-85b9-fbccf7e4d926",
   "metadata": {},
   "outputs": [],
   "source": [
    "task = \"\""
   ]
  },
  {
   "cell_type": "code",
   "execution_count": 31,
   "id": "be80203e-75b0-4da4-bd66-858d02a3b1a2",
   "metadata": {},
   "outputs": [],
   "source": [
    "task = \"What are the main advantages of living in Italy?\""
   ]
  },
  {
   "cell_type": "code",
   "execution_count": 32,
   "id": "3b7548c0-f520-4745-8444-bba833397b0d",
   "metadata": {},
   "outputs": [
    {
     "name": "stdout",
     "output_type": "stream",
     "text": [
      "{'plan': {'plan_string': 'Plan: Use Google to search for general advantages of living in Italy, such as lifestyle, culture, food, and economy. This will provide a broad overview of the benefits that are commonly recognized.\\n#E1 = Google[\"advantages of living in Italy\"]\\n\\nPlan: Analyze the search results from Google to extract key points and summarize the main advantages of living in Italy, focusing on the most frequently mentioned benefits.\\n#E2 = LLM[Summarize the main advantages of living in Italy based on #E1]', 'steps': [('Use Google to search for general advantages of living in Italy, such as lifestyle, culture, food, and economy. This will provide a broad overview of the benefits that are commonly recognized.', '#E1', 'Google', '\"advantages of living in Italy\"'), ('Analyze the search results from Google to extract key points and summarize the main advantages of living in Italy, focusing on the most frequently mentioned benefits.', '#E2', 'LLM', 'Summarize the main advantages of living in Italy based on #E1')]}}\n",
      "---\n",
      "{'tool': {'results': {'#E1': '[{\\'url\\': \\'https://www.idealista.it/en/news/lifestyle-in-italy/2023/07/20/236669-pros-and-cons-of-living-in-italy\\', \\'content\\': \"Advantages of living in Italy. One of the most significant advantages of living in Italy is the country\\'s rich cultural heritage. From ancient Roman ruins to Renaissance masterpieces, Italy boasts ...\"}, {\\'url\\': \\'https://connecthouses.com/en/blog/1/advantages-of-living-in-italy\\', \\'content\\': \\'Here are some of the best advantages of living in Italy: Affordable housing. Italy has a reputation for being quite expensive compared to neighbouring countries like Spain and Greece. Prices in places like Venice, Milan or Florence can be steep, but much of the Italian countryside is very affordable. If you are buying a house in Italy, swap ...\\'}, {\\'url\\': \\'https://aspiringyouths.com/advantages-disadvantages/living-in-italy/\\', \\'content\\': \"Advantages of Living In Italy. Delicious Italian cuisine - Living in Italy means enjoying mouth-watering meals every day. Its cuisine is world-renowned, with pizza, pasta, and gelato as some of the favorites. Rich cultural heritage - It\\'s a country steeped in history. You\\'ll find ancient ruins, stunning art, and architecture that tell tales of centuries past.\"}, {\\'url\\': \\'https://www.iliveitaly.it/the-advantages-of-living-in-italy/\\', \\'content\\': \\'Italy is a great place to live, especially if you are planning to stay for good. It is a country with a diverse landscape: from the snow-capped Alps to the\\'}, {\\'url\\': \\'https://italychronicles.com/italy-live/\\', \\'content\\': \\'Advantages of Living in Italy: 1. Cultural Richness and Italy is a treasure trove of historical landmarks, art, and architecture, providing a culturally enriching experience. 2. High Quality of Life: Italians prioritize a balanced lifestyle, with a strong emphasis on family, leisure time, and enjoying the simple pleasures of life. 3.\\'}]'}}}\n",
      "---\n",
      "{'tool': {'results': {'#E1': '[{\\'url\\': \\'https://www.idealista.it/en/news/lifestyle-in-italy/2023/07/20/236669-pros-and-cons-of-living-in-italy\\', \\'content\\': \"Advantages of living in Italy. One of the most significant advantages of living in Italy is the country\\'s rich cultural heritage. From ancient Roman ruins to Renaissance masterpieces, Italy boasts ...\"}, {\\'url\\': \\'https://connecthouses.com/en/blog/1/advantages-of-living-in-italy\\', \\'content\\': \\'Here are some of the best advantages of living in Italy: Affordable housing. Italy has a reputation for being quite expensive compared to neighbouring countries like Spain and Greece. Prices in places like Venice, Milan or Florence can be steep, but much of the Italian countryside is very affordable. If you are buying a house in Italy, swap ...\\'}, {\\'url\\': \\'https://aspiringyouths.com/advantages-disadvantages/living-in-italy/\\', \\'content\\': \"Advantages of Living In Italy. Delicious Italian cuisine - Living in Italy means enjoying mouth-watering meals every day. Its cuisine is world-renowned, with pizza, pasta, and gelato as some of the favorites. Rich cultural heritage - It\\'s a country steeped in history. You\\'ll find ancient ruins, stunning art, and architecture that tell tales of centuries past.\"}, {\\'url\\': \\'https://www.iliveitaly.it/the-advantages-of-living-in-italy/\\', \\'content\\': \\'Italy is a great place to live, especially if you are planning to stay for good. It is a country with a diverse landscape: from the snow-capped Alps to the\\'}, {\\'url\\': \\'https://italychronicles.com/italy-live/\\', \\'content\\': \\'Advantages of Living in Italy: 1. Cultural Richness and Italy is a treasure trove of historical landmarks, art, and architecture, providing a culturally enriching experience. 2. High Quality of Life: Italians prioritize a balanced lifestyle, with a strong emphasis on family, leisure time, and enjoying the simple pleasures of life. 3.\\'}]', '#E2': 'content=\"Living in Italy offers several distinct advantages:\\\\n\\\\n1. **Rich Cultural Heritage**: Italy is renowned for its historical landmarks, art, and architecture. Residents can enjoy access to ancient Roman ruins, Renaissance masterpieces, and a wealth of museums and galleries that showcase the country\\'s long and storied past.\\\\n\\\\n2. **Delicious Cuisine**: Italian food is celebrated globally, and living in Italy means having daily access to authentic pizza, pasta, gelato, and other local delicacies made from fresh, high-quality ingredients.\\\\n\\\\n3. **Affordable Housing in Certain Areas**: While cities like Venice, Milan, and Florence may have high living costs, much of the Italian countryside offers more affordable housing options. This makes Italy an attractive option for those looking to purchase property.\\\\n\\\\n4. **High Quality of Life**: Italians are known for their emphasis on a balanced lifestyle. There is a strong focus on family, leisure time, and enjoying life\\'s simple pleasures, contributing to a high quality of life for residents.\\\\n\\\\n5. **Diverse Landscapes**: Italy\\'s geography ranges from the snow-capped Alps in the north to beautiful coastlines in the south, offering residents a variety of natural landscapes to explore and enjoy.\\\\n\\\\nThese factors make Italy a desirable place to live, especially for those who value cultural richness, culinary delights, and a balanced lifestyle amidst beautiful settings.\" response_metadata={\\'token_usage\\': {\\'completion_tokens\\': 269, \\'prompt_tokens\\': 458, \\'total_tokens\\': 727}, \\'model_name\\': \\'gpt-4-turbo-2024-04-09\\', \\'system_fingerprint\\': \\'fp_ea6eb70039\\', \\'finish_reason\\': \\'stop\\', \\'logprobs\\': None} id=\\'run-7023e42f-48de-4e9a-bb22-a375cd9f9bad-0\\''}}}\n",
      "---\n",
      "{'solve': {'result': \"1. **Rich Cultural Heritage**: Italy is renowned for its historical landmarks, art, and architecture. Residents can enjoy access to ancient Roman ruins, Renaissance masterpieces, and a wealth of museums and galleries that showcase the country's long and storied past.\\n\\n2. **Delicious Cuisine**: Italian food is celebrated globally, and living in Italy means having daily access to authentic pizza, pasta, gelato, and other local delicacies made from fresh, high-quality ingredients.\\n\\n3. **Affordable Housing in Certain Areas**: While cities like Venice, Milan, and Florence may have high living costs, much of the Italian countryside offers more affordable housing options. This makes Italy an attractive option for those looking to purchase property.\\n\\n4. **High Quality of Life**: Italians are known for their emphasis on a balanced lifestyle. There is a strong focus on family, leisure time, and enjoying life's simple pleasures, contributing to a high quality of life for residents.\\n\\n5. **Diverse Landscapes**: Italy's geography ranges from the snow-capped Alps in the north to beautiful coastlines in the south, offering residents a variety of natural landscapes to explore and enjoy.\"}}\n",
      "---\n"
     ]
    }
   ],
   "source": [
    "for s in app.stream({\"task\": task}):\n",
    "    print(s)\n",
    "    print(\"---\")"
   ]
  },
  {
   "cell_type": "code",
   "execution_count": 33,
   "id": "8b93fcfd-5cb9-484f-8764-d3cca0a88b36",
   "metadata": {},
   "outputs": [
    {
     "name": "stdout",
     "output_type": "stream",
     "text": [
      "1. **Rich Cultural Heritage**: Italy is renowned for its historical landmarks, art, and architecture. Residents can enjoy access to ancient Roman ruins, Renaissance masterpieces, and a wealth of museums and galleries that showcase the country's long and storied past.\n",
      "\n",
      "2. **Delicious Cuisine**: Italian food is celebrated globally, and living in Italy means having daily access to authentic pizza, pasta, gelato, and other local delicacies made from fresh, high-quality ingredients.\n",
      "\n",
      "3. **Affordable Housing in Certain Areas**: While cities like Venice, Milan, and Florence may have high living costs, much of the Italian countryside offers more affordable housing options. This makes Italy an attractive option for those looking to purchase property.\n",
      "\n",
      "4. **High Quality of Life**: Italians are known for their emphasis on a balanced lifestyle. There is a strong focus on family, leisure time, and enjoying life's simple pleasures, contributing to a high quality of life for residents.\n",
      "\n",
      "5. **Diverse Landscapes**: Italy's geography ranges from the snow-capped Alps in the north to beautiful coastlines in the south, offering residents a variety of natural landscapes to explore and enjoy.\n"
     ]
    }
   ],
   "source": [
    "print(s[\"solve\"][\"result\"])"
   ]
  }
 ],
 "metadata": {
  "kernelspec": {
   "display_name": "Python 3 (ipykernel)",
   "language": "python",
   "name": "python3"
  },
  "language_info": {
   "codemirror_mode": {
    "name": "ipython",
    "version": 3
   },
   "file_extension": ".py",
   "mimetype": "text/x-python",
   "name": "python",
   "nbconvert_exporter": "python",
   "pygments_lexer": "ipython3",
   "version": "3.11.9"
  }
 },
 "nbformat": 4,
 "nbformat_minor": 5
}
