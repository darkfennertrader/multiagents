{
 "cells": [
  {
   "cell_type": "code",
   "execution_count": 1,
   "id": "9bfde4ae-21bc-4a2f-b5c3-9e083d2bbc96",
   "metadata": {},
   "outputs": [],
   "source": [
    "from config import OPENAI_API_KEY, TAVILY_API_KEY, LANGCHAIN_TRACING_V2, LANGCHAIN_API_KEY, OPENWEATHERMAP_API_KEY\n",
    "import timeit"
   ]
  },
  {
   "cell_type": "markdown",
   "id": "300e2e38-b6e2-4fe7-8272-62d5934d2d70",
   "metadata": {},
   "source": [
    "### Simplest Graph"
   ]
  },
  {
   "cell_type": "code",
   "execution_count": 2,
   "id": "15d09e65-4a66-4e48-a4f4-6f0cd6730466",
   "metadata": {},
   "outputs": [],
   "source": [
    "def function1(input1):\n",
    "    return input1 + \" Hi\"\n",
    "\n",
    "def function2(input2):\n",
    "    return input2 + \" there\""
   ]
  },
  {
   "cell_type": "code",
   "execution_count": 3,
   "id": "86631af0-964e-410e-bfd8-27f9d84f23dc",
   "metadata": {},
   "outputs": [],
   "source": [
    "from langgraph.graph import Graph\n",
    "\n",
    "workflow = Graph()\n",
    "\n",
    "workflow.add_node(\"node1\", function1)\n",
    "workflow.add_node(\"node2\", function2)\n",
    "workflow.add_edge(\"node1\", \"node2\")\n",
    "\n",
    "workflow.set_entry_point(\"node1\")\n",
    "workflow.set_finish_point(\"node2\")\n",
    "\n",
    "app = workflow.compile()           "
   ]
  },
  {
   "cell_type": "code",
   "execution_count": 4,
   "id": "04b0d5a2-4df8-4d89-9db0-453c1e17f333",
   "metadata": {},
   "outputs": [
    {
     "data": {
      "text/plain": [
       "'Hello Hi there'"
      ]
     },
     "execution_count": 4,
     "metadata": {},
     "output_type": "execute_result"
    }
   ],
   "source": [
    "app.invoke(\"Hello\")"
   ]
  },
  {
   "cell_type": "code",
   "execution_count": 5,
   "id": "675dcf2c-c1aa-4551-bb86-280918c19ca2",
   "metadata": {},
   "outputs": [
    {
     "name": "stdout",
     "output_type": "stream",
     "text": [
      "\n",
      "Output from node node1: Hello Hi\n",
      "\n",
      "Output from node node2: Hello Hi there\n"
     ]
    }
   ],
   "source": [
    "input = \"Hello\"\n",
    "for output in app.stream(input):\n",
    "    for key, value in output.items():\n",
    "        print(f\"\\nOutput from node {key}: {value}\")"
   ]
  },
  {
   "cell_type": "markdown",
   "id": "2e9dbeb9-e54b-4924-bdb8-9dd3807d8900",
   "metadata": {},
   "source": [
    "### adding LLM call"
   ]
  },
  {
   "cell_type": "code",
   "execution_count": 6,
   "id": "a8f26060-ee6e-44ad-9d87-d9779416ede9",
   "metadata": {},
   "outputs": [
    {
     "data": {
      "text/plain": [
       "'Hello! How can I assist you today?'"
      ]
     },
     "execution_count": 6,
     "metadata": {},
     "output_type": "execute_result"
    }
   ],
   "source": [
    "\n",
    "from langchain_openai import ChatOpenAI\n",
    "model = ChatOpenAI(model=\"gpt-4-turbo-preview\", temperature=0)\n",
    "model.invoke(\"Hi there\").content"
   ]
  },
  {
   "cell_type": "code",
   "execution_count": 7,
   "id": "aee333a7-d3c4-4680-b088-f1adbeed3d96",
   "metadata": {},
   "outputs": [],
   "source": [
    "def function1(input1):\n",
    "    return model.invoke(input1).content\n",
    "\n",
    "def function2(input2):\n",
    "    return \"Agent says: \" + input2"
   ]
  },
  {
   "cell_type": "code",
   "execution_count": 8,
   "id": "9a8958ac-e232-4725-b162-b55a7cfa974b",
   "metadata": {},
   "outputs": [],
   "source": [
    "workflow = Graph()\n",
    "\n",
    "workflow.add_node(\"agent\", function1)\n",
    "workflow.add_node(\"node2\", function2)\n",
    "workflow.add_edge(\"agent\", \"node2\")\n",
    "\n",
    "workflow.set_entry_point(\"agent\")\n",
    "workflow.set_finish_point(\"node2\")\n",
    "\n",
    "app = workflow.compile()    "
   ]
  },
  {
   "cell_type": "code",
   "execution_count": 9,
   "id": "35298998-36ad-4a02-9626-0cde9fe33473",
   "metadata": {},
   "outputs": [
    {
     "data": {
      "text/plain": [
       "'Agent says: Hello! How can I assist you today?'"
      ]
     },
     "execution_count": 9,
     "metadata": {},
     "output_type": "execute_result"
    }
   ],
   "source": [
    "app.invoke(\"Hi there\")"
   ]
  },
  {
   "cell_type": "code",
   "execution_count": 10,
   "id": "ab43a5a2-704a-4114-b4f4-9db09eea1ca6",
   "metadata": {},
   "outputs": [
    {
     "name": "stdout",
     "output_type": "stream",
     "text": [
      "\n",
      "Output from node agent: Hello! How can I assist you today?\n",
      "\n",
      "Output from node node2: Agent says: Hello! How can I assist you today?\n"
     ]
    }
   ],
   "source": [
    "input = \"Hello\"\n",
    "for output in app.stream(input):\n",
    "    for key, value in output.items():\n",
    "        print(f\"\\nOutput from node {key}: {value}\")"
   ]
  },
  {
   "cell_type": "markdown",
   "id": "b9f16278-9205-47c6-888b-dd66a0e21deb",
   "metadata": {},
   "source": [
    "### Node as a Tool"
   ]
  },
  {
   "cell_type": "code",
   "execution_count": 11,
   "id": "5698989c-6826-4622-ac1b-adbe8a84cb6d",
   "metadata": {},
   "outputs": [],
   "source": [
    "def function1(input1):\n",
    "    complete_query = \"Your task is to provide only the city name based on the user query. \\\n",
    "    Nothing more, just the city name mentioned. \\\n",
    "    Following is the user query: \" + input1\n",
    "    \n",
    "    return model.invoke(complete_query).content\n",
    "\n",
    "def function2(input2):\n",
    "    return \"Agent says: \" + input2"
   ]
  },
  {
   "cell_type": "code",
   "execution_count": 12,
   "id": "149b4ba1-479f-43b6-9639-92b094bd683e",
   "metadata": {},
   "outputs": [],
   "source": [
    "workflow = Graph()\n",
    "\n",
    "workflow.add_node(\"agent\", function1)\n",
    "workflow.add_node(\"node2\", function2)\n",
    "workflow.add_edge(\"agent\", \"node2\")\n",
    "\n",
    "workflow.set_entry_point(\"agent\")\n",
    "workflow.set_finish_point(\"node2\")\n",
    "\n",
    "app = workflow.compile()   "
   ]
  },
  {
   "cell_type": "code",
   "execution_count": 13,
   "id": "d4030219-8767-41eb-a7d1-4b5078aece45",
   "metadata": {},
   "outputs": [
    {
     "data": {
      "text/plain": [
       "'Agent says: Milan'"
      ]
     },
     "execution_count": 13,
     "metadata": {},
     "output_type": "execute_result"
    }
   ],
   "source": [
    "app.invoke(\"What's the weather in Milan Italy ?\")"
   ]
  },
  {
   "cell_type": "code",
   "execution_count": 14,
   "id": "cdf919fa-2354-4d3b-80a7-518f0819aae8",
   "metadata": {},
   "outputs": [
    {
     "data": {
      "text/plain": [
       "'In Las Vegas, the current weather is as follows:\\nDetailed status: clear sky\\nWind speed: 12.52 m/s, direction: 310°\\nHumidity: 30%\\nTemperature: \\n  - Current: 19.86°C\\n  - High: 21.18°C\\n  - Low: 17.88°C\\n  - Feels like: 18.68°C\\nRain: {}\\nHeat index: None\\nCloud cover: 0%'"
      ]
     },
     "execution_count": 14,
     "metadata": {},
     "output_type": "execute_result"
    }
   ],
   "source": [
    "from langchain_community.utilities import OpenWeatherMapAPIWrapper\n",
    "\n",
    "weather = OpenWeatherMapAPIWrapper()\n",
    "weather_data = weather.run(\"Las Vegas\")\n",
    "weather_data"
   ]
  },
  {
   "cell_type": "code",
   "execution_count": 15,
   "id": "016e911b-79a8-4642-983b-3aa47899c1f7",
   "metadata": {},
   "outputs": [],
   "source": [
    "def function1(input1):\n",
    "    complete_query = \"Your task is to provide only the city name based on the user query. \\\n",
    "    Nothing more, just the city name mentioned. \\\n",
    "    Following is the user query: \" + input1\n",
    "    \n",
    "    return model.invoke(complete_query).content\n",
    "\n",
    "def function2(input2):\n",
    "     return weather.run(input2)"
   ]
  },
  {
   "cell_type": "code",
   "execution_count": 16,
   "id": "0cebfcdf-43af-45a7-a3ba-b6cf5e80eb83",
   "metadata": {},
   "outputs": [],
   "source": [
    "workflow = Graph()\n",
    "\n",
    "workflow.add_node(\"agent\", function1)\n",
    "workflow.add_node(\"tool\", function2)\n",
    "workflow.add_edge(\"agent\", \"tool\")\n",
    "\n",
    "workflow.set_entry_point(\"agent\")\n",
    "workflow.set_finish_point(\"tool\")\n",
    "\n",
    "app = workflow.compile()   "
   ]
  },
  {
   "cell_type": "code",
   "execution_count": 17,
   "id": "ad4d79fb-09f3-4fe1-878f-ef59b04535c2",
   "metadata": {},
   "outputs": [
    {
     "data": {
      "text/plain": [
       "'In Milan, the current weather is as follows:\\nDetailed status: scattered clouds\\nWind speed: 1.54 m/s, direction: 0°\\nHumidity: 71%\\nTemperature: \\n  - Current: 16.59°C\\n  - High: 17.97°C\\n  - Low: 14.13°C\\n  - Feels like: 16.16°C\\nRain: {}\\nHeat index: None\\nCloud cover: 40%'"
      ]
     },
     "execution_count": 17,
     "metadata": {},
     "output_type": "execute_result"
    }
   ],
   "source": [
    "app.invoke(\"What's the weather in Milan Italy ?\")"
   ]
  },
  {
   "cell_type": "code",
   "execution_count": 18,
   "id": "55ea1271-d3bc-4d23-a52d-d1f04808128d",
   "metadata": {},
   "outputs": [
    {
     "data": {
      "text/plain": [
       "\"Result Q7251:\\nLabel: Alan Turing\\nDescription: English computer scientist (1912–1954)\\nAliases: Alan M. Turing, Alan Mathieson Turing, Turing, Alan Mathison Turing\\ninstance of: human\\ncountry of citizenship: United Kingdom\\noccupation: computer scientist, mathematician, university teacher, cryptographer, logician, statistician, marathon runner, artificial intelligence researcher\\nsex or gender: male\\ndate of birth: 1912-06-23\\ndate of death: 1954-06-07\\nsport: athletics\\nplace of birth: Maida Vale, Warrington Lodge\\neducated at: King's College, Princeton University, Sherborne School, Hazlehurst Community Primary School\\nemployer: Victoria University of Manchester, Government Communications Headquarters, University of Cambridge, National Physical Laboratory\\nplace of death: Wilmslow\\nfield of work: cryptanalysis, computer science, mathematics, logic, cryptography\\ncause of death: cyanide poisoning\\nnotable work: On Computable Numbers, with an Application to the Entscheidungsproblem, Computing Machinery and Intelligence, Intelligent Machinery, halting problem, Turing machine, Turing test, Turing completeness, Church-Turing thesis, universal Turing machine, Symmetric Turing machine, non-deterministic Turing machine, Bombe, probabilistic Turing machine, Turing degree\\nreligion or worldview: atheism\\nmother: Ethel Sara Stoney\\nfather: Julius Mathison Turing\\ndoctoral student: Robin Gandy, Beatrice Helen Worsley\\nstudent: Robin Gandy\\n\\nResult Q28846012:\\nLabel: Alan Turing\\nDescription: fictional analogon of Alan Turing (1912-1954)\\nAliases: Alan Mathison Turing\\ninstance of: fictional human\\nsex or gender: male\""
      ]
     },
     "execution_count": 18,
     "metadata": {},
     "output_type": "execute_result"
    }
   ],
   "source": [
    "from langchain_community.tools.wikidata.tool import WikidataAPIWrapper, WikidataQueryRun\n",
    "\n",
    "wikidata = WikidataQueryRun(api_wrapper=WikidataAPIWrapper())\n",
    "wikidata.run(\"Alan Turing\")"
   ]
  },
  {
   "cell_type": "code",
   "execution_count": 19,
   "id": "b8dbb8fa-3f10-4b37-917e-d3d9ee5ea43e",
   "metadata": {},
   "outputs": [],
   "source": [
    "def function1(input1):\n",
    "    complete_query = \"Your task is to provide only the name based on the user query. \\\n",
    "    Nothing more, just the name mentioned. \\\n",
    "    Following is the user query: \" + input1\n",
    "    \n",
    "    return model.invoke(complete_query).content\n",
    "\n",
    "def function2(input2):\n",
    "    return wikidata.run(input2)"
   ]
  },
  {
   "cell_type": "code",
   "execution_count": 20,
   "id": "c9642908-861a-42e7-a07c-3cb581a891ac",
   "metadata": {},
   "outputs": [],
   "source": [
    "workflow = Graph()\n",
    "\n",
    "workflow.add_node(\"agent\", function1)\n",
    "workflow.add_node(\"tool\", function2)\n",
    "workflow.add_edge(\"agent\", \"tool\")\n",
    "\n",
    "workflow.set_entry_point(\"agent\")\n",
    "workflow.set_finish_point(\"tool\")\n",
    "\n",
    "app = workflow.compile() "
   ]
  },
  {
   "cell_type": "code",
   "execution_count": 21,
   "id": "e4296eb5-fd2b-4cb9-b590-1f3178474244",
   "metadata": {},
   "outputs": [
    {
     "data": {
      "text/plain": [
       "\"Result Q937:\\nLabel: Albert Einstein\\nDescription: German-born theoretical physicist; developer of the theory of relativity (1879–1955)\\nAliases: Einstein, A. Einstein\\ninstance of: human\\ncountry of citizenship: German Empire, statelessness, Switzerland, Cisleithania, Weimar Republic, Germany, United States of America\\noccupation: theoretical physicist, philosopher of science, inventor, science writer, pedagogue, university teacher, physicist, philosopher, writer, scientist, mathematician, patent examiner, professor\\nsex or gender: male\\ndate of birth: 1879-03-14\\ndate of death: 1955-04-18\\nplace of birth: Ulm\\neducated at: ETH Zurich, Luitpold-Gymnasium, old Kantonsschule (Albert Einstein House), University of Zurich\\nemployer: Swiss Federal Institute of Intellectual Property, Charles University, University of Zurich, German University in Prague, ETH Zurich, Kaiser Wilhelm Society, Princeton University, Leiden University, University of Bern, Deutsche Physikalische Gesellschaft, Humboldt University of Berlin, Royal Prussian Academy of Sciences, Institute for Advanced Study, Leiden University, Bern, University of California, Berkeley\\nposition held: professor\\nplace of death: Princeton\\nfield of work: theoretical physics\\ncause of death: abdominal aortic aneurysm\\nnotable work: special relativity, general relativity, photoelectric effect, theory of relativity, theory of Brownian Motion, mass–energy equivalence, Planck constant, Einstein field equations, quantum mechanics, unified field theory, stimulated emission\\nmember of political party: German Democratic Party\\nreligion or worldview: atheism, agnosticism, Judaism, Pantheism\\nmother: Pauline Koch\\nfather: Hermann Einstein\\nchild: Hans Albert Einstein, Eduard Einstein, Lieserl (Einstein)\\ndoctoral student: Leó Szilárd\\nstudent: Ernst G. Straus\\n\\nResult Q2464312:\\nLabel: Albert Einstein's brain\\nDescription: preserved brain of scientist Albert Einstein\\nAliases: brain of Albert Einstein\\ninstance of: human brain, particular anatomical entity\\npart of: Albert Einstein\\nlocation: National Museum of Health and Medicine\""
      ]
     },
     "execution_count": 21,
     "metadata": {},
     "output_type": "execute_result"
    }
   ],
   "source": [
    "app.invoke(\"Find info on Einstein\")"
   ]
  },
  {
   "cell_type": "code",
   "execution_count": 22,
   "id": "bb80c47d-4578-45d9-bab6-8384c3ea3cb3",
   "metadata": {},
   "outputs": [
    {
     "name": "stdout",
     "output_type": "stream",
     "text": [
      "\n",
      "Output from node agent: Albert Einstein\n",
      "\n",
      "Output from node tool: Result Q937:\n",
      "Label: Albert Einstein\n",
      "Description: German-born theoretical physicist; developer of the theory of relativity (1879–1955)\n",
      "Aliases: Einstein, A. Einstein\n",
      "instance of: human\n",
      "country of citizenship: German Empire, statelessness, Switzerland, Cisleithania, Weimar Republic, Germany, United States of America\n",
      "occupation: theoretical physicist, philosopher of science, inventor, science writer, pedagogue, university teacher, physicist, philosopher, writer, scientist, mathematician, patent examiner, professor\n",
      "sex or gender: male\n",
      "date of birth: 1879-03-14\n",
      "date of death: 1955-04-18\n",
      "place of birth: Ulm\n",
      "educated at: ETH Zurich, Luitpold-Gymnasium, old Kantonsschule (Albert Einstein House), University of Zurich\n",
      "employer: Swiss Federal Institute of Intellectual Property, Charles University, University of Zurich, German University in Prague, ETH Zurich, Kaiser Wilhelm Society, Princeton University, Leiden University, University of Bern, Deutsche Physikalische Gesellschaft, Humboldt University of Berlin, Royal Prussian Academy of Sciences, Institute for Advanced Study, Leiden University, Bern, University of California, Berkeley\n",
      "position held: professor\n",
      "place of death: Princeton\n",
      "field of work: theoretical physics\n",
      "cause of death: abdominal aortic aneurysm\n",
      "notable work: special relativity, general relativity, photoelectric effect, theory of relativity, theory of Brownian Motion, mass–energy equivalence, Planck constant, Einstein field equations, quantum mechanics, unified field theory, stimulated emission\n",
      "member of political party: German Democratic Party\n",
      "religion or worldview: atheism, agnosticism, Judaism, Pantheism\n",
      "mother: Pauline Koch\n",
      "father: Hermann Einstein\n",
      "child: Hans Albert Einstein, Eduard Einstein, Lieserl (Einstein)\n",
      "doctoral student: Leó Szilárd\n",
      "student: Ernst G. Straus\n",
      "\n",
      "Result Q2464312:\n",
      "Label: Albert Einstein's brain\n",
      "Description: preserved brain of scientist Albert Einstein\n",
      "Aliases: brain of Albert Einstein\n",
      "instance of: human brain, particular anatomical entity\n",
      "part of: Albert Einstein\n",
      "location: National Museum of Health and Medicine\n"
     ]
    }
   ],
   "source": [
    "input = \"Find info on Einstein\"\n",
    "for output in app.stream(input):\n",
    "    for key, value in output.items():\n",
    "        print(f\"\\nOutput from node {key}: {value}\")"
   ]
  },
  {
   "cell_type": "markdown",
   "id": "fac6b4fa-6d10-48fc-bc5e-205c90ca68b3",
   "metadata": {},
   "source": [
    "### Adding another Node (LLM) to filter result"
   ]
  },
  {
   "cell_type": "markdown",
   "id": "e22ea318-8419-44ba-a833-e11b61f20fe9",
   "metadata": {},
   "source": [
    "#### we need to pass some data across the nodes"
   ]
  },
  {
   "cell_type": "code",
   "execution_count": 23,
   "id": "2acab41f-9622-464a-8f16-307348843ec8",
   "metadata": {},
   "outputs": [
    {
     "data": {
      "text/plain": [
       "{'messages': []}"
      ]
     },
     "execution_count": 23,
     "metadata": {},
     "output_type": "execute_result"
    }
   ],
   "source": [
    "# assign AgentState as an empty dict\n",
    "AgentState = {}\n",
    "# message key will be assigned as an empty array. we will append new messages as we pass along nodes\n",
    "AgentState[\"messages\"] = []\n",
    "AgentState"
   ]
  },
  {
   "cell_type": "markdown",
   "id": "fcc9ca53-b4d7-4f93-a41b-3b37de114c2a",
   "metadata": {},
   "source": [
    "#### our goal is to have this state filled as: {\"messages\": [HumanMessage, AIMessage, ...]}"
   ]
  },
  {
   "cell_type": "code",
   "execution_count": 24,
   "id": "9c62f178-79da-4810-8fca-7a3e24cbaa70",
   "metadata": {},
   "outputs": [],
   "source": [
    "def function1(state):\n",
    "    messages = state[\"messages\"]\n",
    "    user_input = messages[-1]\n",
    "    \n",
    "    complete_query = \"Your task is to provide only the name based on the user query. \\\n",
    "    Nothing more, just the name mentioned. \\\n",
    "    Following is the user query: \" + user_input\n",
    "\n",
    "    response = model.invoke(complete_query).content\n",
    "    # appending AIMessage response to the AgentState\n",
    "    state[\"messages\"].append(response)\n",
    "    return state\n",
    "\n",
    "def function2(state):\n",
    "    messages = state[\"messages\"]\n",
    "    agent_response = messages[-1]\n",
    "    wikidata = WikidataQueryRun(api_wrapper=WikidataAPIWrapper())\n",
    "    response = wikidata.run(agent_response)\n",
    "    state[\"messages\"].append(response)\n",
    "    return state\n",
    "\n",
    "def function3(state):\n",
    "    messages = state[\"messages\"]\n",
    "    user_input = messages[0]\n",
    "    available_info = messages[-1]\n",
    "    agent2_query = \"Your task is to provide info concisely based on the user query and the available information from Wikipedia. \\\n",
    "                    Following is the user query: \" + user_input + \" Available info on Wikipedia: \" + available_info\n",
    "    \n",
    "    return model.invoke(agent2_query).content "
   ]
  },
  {
   "cell_type": "code",
   "execution_count": 25,
   "id": "a98e3f4f-95b5-4b71-b79a-ac4ad9a9daf5",
   "metadata": {},
   "outputs": [],
   "source": [
    "workflow = Graph()\n",
    "\n",
    "workflow.add_node(\"agent\", function1)\n",
    "workflow.add_node(\"tool\", function2)\n",
    "workflow.add_node(\"responder\", function3)\n",
    "\n",
    "workflow.add_edge(\"agent\", \"tool\")\n",
    "workflow.add_edge(\"tool\", \"responder\")\n",
    "\n",
    "workflow.set_entry_point(\"agent\")\n",
    "workflow.set_finish_point(\"responder\")\n",
    "\n",
    "app = workflow.compile() "
   ]
  },
  {
   "cell_type": "code",
   "execution_count": 26,
   "id": "5a81c597-8a97-4c26-baf8-66ddb1011d48",
   "metadata": {},
   "outputs": [
    {
     "data": {
      "text/plain": [
       "'Ed Roberts, an American engineer, entrepreneur, and medical doctor, is recognized for inventing the first personal computer.'"
      ]
     },
     "execution_count": 26,
     "metadata": {},
     "output_type": "execute_result"
    }
   ],
   "source": [
    "inputs = {\"messages\": [\"Who invented the first personal computer?\"]}\n",
    "app.invoke(inputs)"
   ]
  },
  {
   "cell_type": "code",
   "execution_count": 27,
   "id": "001c62b4-2ab6-473f-8681-74590a7be615",
   "metadata": {},
   "outputs": [
    {
     "name": "stdout",
     "output_type": "stream",
     "text": [
      "\n",
      "Output from node agent: {'messages': ['Who invented the first personal computer?', 'Henry Edward Roberts', 'Result Q446839:\\nLabel: Ed Roberts\\nDescription: American engineer, entrepreneur and medical doctor\\nAliases: Henry Edward Roberts, Edward Roberts\\ninstance of: human\\ncountry of citizenship: United States of America\\noccupation: physician, military officer, inventor, computer scientist, businessperson\\nsex or gender: male\\ndate of birth: 1941-09-13\\ndate of death: 2010-04-01\\nplace of birth: Miami\\neducated at: Oklahoma State University–Stillwater, Mercer University, University of Miami, Miami High School\\nplace of death: Cochran\\ncause of death: pneumonia\\n\\nResult Q75458873:\\nLabel: Peter Henry Edward Roberts Dunn\\nDescription: Peerage person ID=155118\\ninstance of: human\\nsex or gender: male\\nchild: Julia Mary Roberts Dunn, John Anthony Roberts Dunn, Joanna Jane Roberts Dunn, James Henry Roberts Dunn', 'Ed Roberts']}\n",
      "\n",
      "Output from node tool: {'messages': ['Who invented the first personal computer?', 'Henry Edward Roberts', 'Result Q446839:\\nLabel: Ed Roberts\\nDescription: American engineer, entrepreneur and medical doctor\\nAliases: Henry Edward Roberts, Edward Roberts\\ninstance of: human\\ncountry of citizenship: United States of America\\noccupation: physician, military officer, inventor, computer scientist, businessperson\\nsex or gender: male\\ndate of birth: 1941-09-13\\ndate of death: 2010-04-01\\nplace of birth: Miami\\neducated at: Oklahoma State University–Stillwater, Mercer University, University of Miami, Miami High School\\nplace of death: Cochran\\ncause of death: pneumonia\\n\\nResult Q75458873:\\nLabel: Peter Henry Edward Roberts Dunn\\nDescription: Peerage person ID=155118\\ninstance of: human\\nsex or gender: male\\nchild: Julia Mary Roberts Dunn, John Anthony Roberts Dunn, Joanna Jane Roberts Dunn, James Henry Roberts Dunn', 'Ed Roberts', 'Result Q446839:\\nLabel: Ed Roberts\\nDescription: American engineer, entrepreneur and medical doctor\\nAliases: Henry Edward Roberts, Edward Roberts\\ninstance of: human\\ncountry of citizenship: United States of America\\noccupation: physician, military officer, inventor, computer scientist, businessperson\\nsex or gender: male\\ndate of birth: 1941-09-13\\ndate of death: 2010-04-01\\nplace of birth: Miami\\neducated at: Oklahoma State University–Stillwater, Mercer University, University of Miami, Miami High School\\nplace of death: Cochran\\ncause of death: pneumonia\\n\\nResult Q537832:\\nLabel: Ed Roberts\\nDescription: Disability rights activist (1939-1995)\\nAliases: Edward Verne Roberts\\ninstance of: human\\ncountry of citizenship: United States of America\\noccupation: disability rights activist\\nsex or gender: male\\ndate of birth: 1939-01-23\\ndate of death: 1995-03-14\\nplace of birth: United States of America\\neducated at: University of California, Berkeley, College of San Mateo\\nplace of death: Berkeley']}\n",
      "\n",
      "Output from node responder: The inventor of the first personal computer is Henry Edward Roberts, an American engineer, entrepreneur, and medical doctor. He was born on September 13, 1941, in Miami, and passed away on April 1, 2010, in Cochran due to pneumonia. Roberts was also known for his roles as a physician, military officer, inventor, computer scientist, and businessperson. He was educated at Oklahoma State University–Stillwater, Mercer University, the University of Miami, and Miami High School.\n"
     ]
    }
   ],
   "source": [
    "_input = inputs\n",
    "for output in app.stream(_input):\n",
    "    for key, value in output.items():\n",
    "        print(f\"\\nOutput from node {key}: {value}\")"
   ]
  },
  {
   "cell_type": "markdown",
   "id": "1495edfb-5122-4c97-93cd-fa29ee108861",
   "metadata": {},
   "source": [
    "### introducing the AgentState class"
   ]
  },
  {
   "cell_type": "code",
   "execution_count": 28,
   "id": "d05241f5-a0e0-4b6e-aad5-5e1be56ffda8",
   "metadata": {},
   "outputs": [],
   "source": [
    "from typing import TypedDict, Annotated, Sequence\n",
    "import operator\n",
    "from langchain_core.messages import BaseMessage\n",
    "\n",
    "# It basically makes the state dictionary as saw previously, and also makes sure that any message is appended to the messages array\n",
    "# when we do the following: {\"messages\": [new_array_element]}\n",
    "class AgentState(TypedDict):\n",
    "    messages: Annotated[Sequence[BaseMessage], operator.add]"
   ]
  },
  {
   "cell_type": "markdown",
   "id": "fed79b21-a27b-43e1-b598-b029d6ccd3cf",
   "metadata": {},
   "source": [
    "### making agent aware of the tool and conditional edges"
   ]
  },
  {
   "cell_type": "code",
   "execution_count": 29,
   "id": "34fe8cfb-b2f6-46fc-8eeb-dd8fc71d9737",
   "metadata": {},
   "outputs": [],
   "source": [
    "import json\n",
    "from langgraph.prebuilt import ToolInvocation\n",
    "from langchain_core.utils.function_calling import convert_to_openai_function\n",
    "from langchain_community.tools.wikidata.tool import WikidataAPIWrapper, WikidataQueryRun\n",
    "from langchain_community.tools.openweathermap import OpenWeatherMapQueryRun\n",
    "from langgraph.prebuilt.tool_executor import ToolExecutor\n",
    "from langchain_core.messages import FunctionMessage\n",
    "\n",
    "\n",
    "tools = [WikidataQueryRun(api_wrapper=WikidataAPIWrapper())]\n",
    "tools = [OpenWeatherMapQueryRun()]\n",
    "tool_executor = ToolExecutor(tools)\n",
    "\n",
    "model = ChatOpenAI(model=\"gpt-4-turbo-preview\", temperature=0, streaming=True)\n",
    "# this is the way to make agent aware of the tools at their disposal\n",
    "functions = [convert_to_openai_function(t) for t in tools]\n",
    "model = model.bind_functions(functions)"
   ]
  },
  {
   "cell_type": "code",
   "execution_count": 30,
   "id": "b0cfe829-2521-458d-aa19-e99a0a2a3a94",
   "metadata": {},
   "outputs": [],
   "source": [
    "def function1(state):\n",
    "    messages = state[\"messages\"]\n",
    "    response = model.invoke(messages)\n",
    "    return {\"messages\": [response]}"
   ]
  },
  {
   "cell_type": "code",
   "execution_count": 31,
   "id": "ef60f2c5-52e2-4a94-9ef9-c9105ab4e305",
   "metadata": {},
   "outputs": [],
   "source": [
    "def function2(state):\n",
    "    messages = state[\"messages\"]\n",
    "    # this is the query we need to send to the tools available\n",
    "    last_message = messages[-1]\n",
    "    parsed_tool_input = json.loads(last_message.additional_kwargs[\"function_call\"][\"arguments\"])\n",
    "    # we construct a tool invocation from the function_call and pass in the tool name and the expected str input for wikipedia tool\n",
    "    action = ToolInvocation(\n",
    "        tool=last_message.additional_kwargs[\"function_call\"][\"name\"],\n",
    "        tool_input=parsed_tool_input[\"__arg1\"],\n",
    "    )\n",
    "    # we call the tool executor and get back a response\n",
    "    response = tool_executor.invoke(action)\n",
    "    # we use the response to create a function message\n",
    "    function_message = FunctionMessage(content=str(response), name=action.tool)\n",
    "\n",
    "    return {\"messages\": [function_message]}\n",
    "\n"
   ]
  },
  {
   "cell_type": "markdown",
   "id": "b6bf17ff-a864-4b3b-a145-cdd8334e316b",
   "metadata": {},
   "source": [
    "Finally, we define a function for the conditional edge, to help us figure out which direction to go (tool or user response)\n",
    "We can benefit from the agent (LLM) response in LangChain, which has additional_kwargs to make a function_call with the name of the tool.\n",
    "So our logic is, if function_call available in the additional_kwargs, then call tool if not then end the discussion and respond back to the user"
   ]
  },
  {
   "cell_type": "code",
   "execution_count": 32,
   "id": "d66632bd-b540-474a-af39-d6025cbf3ceb",
   "metadata": {},
   "outputs": [],
   "source": [
    "def where_to_go(state):\n",
    "    messages = state[\"messages\"]\n",
    "    last_message = messages[-1]\n",
    "\n",
    "    if \"function_call\" in last_message.additional_kwargs:\n",
    "        return \"continue\"\n",
    "    else:\n",
    "        return \"end\""
   ]
  },
  {
   "cell_type": "code",
   "execution_count": 33,
   "id": "3e17bdc6-aac9-441b-b5de-4b8ce0b97e86",
   "metadata": {},
   "outputs": [],
   "source": [
    "# from langgraph.graph import Graph, END\n",
    "# workflow = Graph()\n",
    "\n",
    "# Or you could import StateGraph and pass AgentState to it\n",
    "from langgraph.graph import StateGraph, END\n",
    "workflow = StateGraph(AgentState)\n",
    "workflow.add_node(\"agent\", function1)\n",
    "workflow.add_node(\"tool\", function2)\n",
    "# The conditional edge requires the following info below.\n",
    "# First, we define the start node. We use `agent`.\n",
    "# This means these are the edges taken after the `agent` node is called.\n",
    "# Next, we pass in the function that will determine which node is called next, in our case where_to_go().\n",
    "workflow.add_conditional_edges(\"agent\", where_to_go,{   # Based on the return from where_to_go\n",
    "                                                        # If return is \"continue\" then we call the tool node.\n",
    "                                                        \"continue\": \"tool\",\n",
    "                                                        # Otherwise we finish. END is a special node marking that the graph should finish.\n",
    "                                                        \"end\": END\n",
    "                                                    }\n",
    ")\n",
    "# We now add a normal edge from `tools` to `agent`.\n",
    "# This means that if `tool` is called, then it has to call the 'agent' next. \n",
    "workflow.add_edge('tool', 'agent')\n",
    "# Basically, agent node has the option to call a tool node based on a condition, \n",
    "# whereas tool node must call the agent in all cases based on this setup.\n",
    "workflow.set_entry_point(\"agent\")\n",
    "app = workflow.compile()"
   ]
  },
  {
   "cell_type": "code",
   "execution_count": 35,
   "id": "4860de1e-d477-423a-85bb-65596599f869",
   "metadata": {},
   "outputs": [
    {
     "name": "stdout",
     "output_type": "stream",
     "text": [
      "\n",
      "Output from node agent: {'messages': [AIMessage(content='Albert Einstein (14 March 1879 – 18 April 1955) was a theoretical physicist who is widely regarded as one of the greatest scientists in history. He developed the theory of relativity, one of the two pillars of modern physics (alongside quantum mechanics). His work is also known for its influence on the philosophy of science. He is best known to the general public for his mass–energy equivalence formula \\\\(E = mc^2\\\\), which has been dubbed \"the world\\'s most famous equation\".\\n\\nEinstein was born in the Kingdom of Württemberg in the German Empire, but he later lived in Switzerland and became a Swiss citizen in 1901, foregoing his German citizenship. In 1914, he moved to Berlin and acquired German citizenship again, only to renounce it in 1933 after Adolf Hitler came to power. Einstein then moved to the United States, where he became a professor of theoretical physics at the Institute for Advanced Study in Princeton, New Jersey. He remained in the United States for the rest of his life, becoming a U.S. citizen in 1940.\\n\\nThroughout his life, Einstein published more than 300 scientific papers and over 150 non-scientific works. His intellectual achievements and originality have made the word \"Einstein\" synonymous with \"genius\". In 1921, he was awarded the Nobel Prize in Physics for his services to theoretical physics, and especially for his discovery of the law of the photoelectric effect, a pivotal step in the development of quantum theory.\\n\\nEinstein\\'s contributions to science include the special theory of relativity, which introduced a new framework for all of physics and proposed new concepts of space and time. He also made significant contributions to the development of the theory of general relativity, including a new theory of gravitation, and he made significant contributions to quantum mechanics and cosmology.\\n\\nAfter his death, Einstein\\'s work continued to influence the development of science and technology, and his legacy continues to be celebrated.', response_metadata={'finish_reason': 'stop'}, id='run-a9dd9ac5-c5a1-4b2b-b85a-efcb0c665d2a-0')]}\n"
     ]
    }
   ],
   "source": [
    "from langchain_core.messages import HumanMessage\n",
    "\n",
    "inputs = {\"messages\": [HumanMessage(content=\"Who is Albert Einstein?\")]}\n",
    "#inputs = {\"messages\": [HumanMessage(content=\"What's the temperature in Paris?\")]}\n",
    "_input = inputs\n",
    "for output in app.stream(_input):\n",
    "    for key, value in output.items():\n",
    "        print(f\"\\nOutput from node {key}: {value}\")"
   ]
  },
  {
   "cell_type": "code",
   "execution_count": null,
   "id": "b4d8417a-e6a4-4cc8-b5f3-4da2ca4772bd",
   "metadata": {},
   "outputs": [],
   "source": []
  }
 ],
 "metadata": {
  "kernelspec": {
   "display_name": "Python 3 (ipykernel)",
   "language": "python",
   "name": "python3"
  },
  "language_info": {
   "codemirror_mode": {
    "name": "ipython",
    "version": 3
   },
   "file_extension": ".py",
   "mimetype": "text/x-python",
   "name": "python",
   "nbconvert_exporter": "python",
   "pygments_lexer": "ipython3",
   "version": "3.11.9"
  }
 },
 "nbformat": 4,
 "nbformat_minor": 5
}
