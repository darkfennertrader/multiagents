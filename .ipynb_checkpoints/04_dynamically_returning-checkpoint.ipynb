{
 "cells": [
  {
   "cell_type": "code",
   "execution_count": 1,
   "id": "e0adacd5-587a-4076-b7f8-c806b032fafe",
   "metadata": {},
   "outputs": [],
   "source": [
    "from config import OPENAI_API_KEY, TAVILY_API_KEY, LANGCHAIN_TRACING_V2, LANGCHAIN_API_KEY"
   ]
  },
  {
   "cell_type": "markdown",
   "id": "f322603e-a19e-469b-bfa3-3283464ac944",
   "metadata": {},
   "source": [
    "### Set up the tools\n",
    "We will first define the tools we want to use. For this simple example, we will use a built-in search tool via Tavily. However, it is really easy to create your own tools - see documentation here on how to do that.\n",
    "\n",
    "MODIFICATION\n",
    "\n",
    "We overwrite the default schema of the input tool to have an additional parameter for returning directly."
   ]
  },
  {
   "cell_type": "code",
   "execution_count": 2,
   "id": "2d5f88ec-9fcd-49c5-aaee-b1056fbe484c",
   "metadata": {},
   "outputs": [],
   "source": [
    "from langchain_core.pydantic_v1 import BaseModel, Field\n",
    "\n",
    "\n",
    "class SearchTool(BaseModel):\n",
    "    \"\"\"Look up things online, optionally returning directly\"\"\"\n",
    "\n",
    "    query: str = Field(description=\"query to look up online\")\n",
    "    return_direct: bool = Field(\n",
    "        description=\"Whether or the result of this should be returned directly to the user without you seeing what it is\",\n",
    "        default=False,\n",
    "    )"
   ]
  },
  {
   "cell_type": "code",
   "execution_count": 3,
   "id": "fff858b7-5f6f-4207-afb7-4b8f46b68a88",
   "metadata": {},
   "outputs": [],
   "source": [
    "from langchain_community.tools.tavily_search import TavilySearchResults\n",
    "\n",
    "search_tool = TavilySearchResults(max_results=1, args_schema=SearchTool)\n",
    "tools = [search_tool]"
   ]
  },
  {
   "cell_type": "code",
   "execution_count": 4,
   "id": "36ee06a3-2581-4a81-949f-0099d1effd6a",
   "metadata": {},
   "outputs": [],
   "source": [
    "from langgraph.prebuilt import ToolExecutor\n",
    "\n",
    "tool_executor = ToolExecutor(tools)"
   ]
  },
  {
   "cell_type": "code",
   "execution_count": 5,
   "id": "c2d478a5-983c-4184-b8e7-9d454aa44974",
   "metadata": {},
   "outputs": [],
   "source": [
    "from langchain_openai import ChatOpenAI\n",
    "\n",
    "# We will set streaming=True so that we can stream tokens\n",
    "# See the streaming section for more information on this.\n",
    "model = ChatOpenAI(temperature=0, streaming=True)"
   ]
  },
  {
   "cell_type": "code",
   "execution_count": 6,
   "id": "73883df3-a90e-40e7-8537-12d8a845dea7",
   "metadata": {},
   "outputs": [],
   "source": [
    "from langchain_core.utils.function_calling import convert_to_openai_function\n",
    "\n",
    "functions = [convert_to_openai_function(t) for t in tools]\n",
    "model = model.bind_functions(functions)"
   ]
  },
  {
   "cell_type": "code",
   "execution_count": 7,
   "id": "3e7ae587-4519-4f1c-9a75-7d10bb7def61",
   "metadata": {},
   "outputs": [],
   "source": [
    "from typing import TypedDict, Annotated, Sequence\n",
    "import operator\n",
    "from langchain_core.messages import BaseMessage\n",
    "\n",
    "\n",
    "class AgentState(TypedDict):\n",
    "    messages: Annotated[Sequence[BaseMessage], operator.add]"
   ]
  },
  {
   "cell_type": "code",
   "execution_count": 8,
   "id": "1c444dde-ab25-4fb9-bb20-4c51981554d3",
   "metadata": {},
   "outputs": [],
   "source": [
    "from langgraph.prebuilt import ToolInvocation\n",
    "import json\n",
    "from langchain_core.messages import FunctionMessage"
   ]
  },
  {
   "cell_type": "markdown",
   "id": "21d53c8b-ac6c-4373-befb-3d665d149e72",
   "metadata": {},
   "source": [
    "MODIFICATION\n",
    "\n",
    "We change the should_continue function to check whether return_direct was set to True"
   ]
  },
  {
   "cell_type": "code",
   "execution_count": 9,
   "id": "e68aa1f4-3cde-434a-bd31-e4a51521a2e4",
   "metadata": {},
   "outputs": [],
   "source": [
    "# Define the function that determines whether to continue or not\n",
    "def should_continue(state):\n",
    "    messages = state[\"messages\"]\n",
    "    last_message = messages[-1]\n",
    "    # If there is no function call, then we finish\n",
    "    if \"function_call\" not in last_message.additional_kwargs:\n",
    "        return \"end\"\n",
    "    # Otherwise if there is, we check if it's suppose to return direct\n",
    "    else:\n",
    "        arguments = json.loads(\n",
    "            last_message.additional_kwargs[\"function_call\"][\"arguments\"]\n",
    "        )\n",
    "        if arguments.get(\"return_direct\", False):\n",
    "            return \"final\"\n",
    "        else:\n",
    "            return \"continue\""
   ]
  },
  {
   "cell_type": "code",
   "execution_count": 10,
   "id": "815ec022-5346-465c-a406-c771615d30d6",
   "metadata": {},
   "outputs": [],
   "source": [
    "# Define the function that calls the model\n",
    "def call_model(state):\n",
    "    messages = state[\"messages\"]\n",
    "    response = model.invoke(messages)\n",
    "    # We return a list, because this will get added to the existing list\n",
    "    return {\"messages\": [response]}"
   ]
  },
  {
   "cell_type": "markdown",
   "id": "0322e718-e4c5-47ea-82bd-5061958f778a",
   "metadata": {},
   "source": [
    "MODIFICATION\n",
    "\n",
    "We change the tool calling to get rid of the return_direct parameter (not used in the actual tool call)"
   ]
  },
  {
   "cell_type": "code",
   "execution_count": 11,
   "id": "e3f98203-fd1f-4f8a-8376-d2ecc3c0641b",
   "metadata": {},
   "outputs": [],
   "source": [
    "# Define the function to execute tools\n",
    "def call_tool(state):\n",
    "    messages = state[\"messages\"]\n",
    "    # Based on the continue condition\n",
    "    # we know the last message involves a function call\n",
    "    last_message = messages[-1]\n",
    "    # We construct an ToolInvocation from the function_call\n",
    "    tool_name = last_message.additional_kwargs[\"function_call\"][\"name\"]\n",
    "    arguments = json.loads(last_message.additional_kwargs[\"function_call\"][\"arguments\"])\n",
    "    if tool_name == \"tavily_search_results_json\":\n",
    "        if \"return_direct\" in arguments:\n",
    "            del arguments[\"return_direct\"]\n",
    "    action = ToolInvocation(\n",
    "        tool=tool_name,\n",
    "        tool_input=arguments,\n",
    "    )\n",
    "    # We call the tool_executor and get back a response\n",
    "    response = tool_executor.invoke(action)\n",
    "    # We use the response to create a FunctionMessage\n",
    "    function_message = FunctionMessage(content=str(response), name=action.tool)\n",
    "    # We return a list, because this will get added to the existing list\n",
    "    return {\"messages\": [function_message]}"
   ]
  },
  {
   "cell_type": "markdown",
   "id": "38e563c4-4db5-48e9-ac47-018f6542817d",
   "metadata": {},
   "source": [
    "Define the graph\n",
    "We can now put it all together and define the graph!\n",
    "\n",
    "MODIFICATION\n",
    "\n",
    "We add a separate node for any tool call where return_direct=True. The reason this is needed is that after this node we want to end, while after other tool calls we want to go back to the LLM."
   ]
  },
  {
   "cell_type": "code",
   "execution_count": 12,
   "id": "20ff7095-e2db-4d3e-8078-c78ab14dc9ca",
   "metadata": {},
   "outputs": [],
   "source": [
    "from langgraph.graph import StateGraph, END\n",
    "\n",
    "# Define a new graph\n",
    "workflow = StateGraph(AgentState)\n",
    "\n",
    "# Define the two nodes we will cycle between\n",
    "workflow.add_node(\"agent\", call_model)\n",
    "workflow.add_node(\"action\", call_tool)\n",
    "workflow.add_node(\"final\", call_tool)\n",
    "\n",
    "# Set the entrypoint as `agent`\n",
    "# This means that this node is the first one called\n",
    "workflow.set_entry_point(\"agent\")\n",
    "\n",
    "# We now add a conditional edge\n",
    "workflow.add_conditional_edges(\n",
    "    # First, we define the start node. We use `agent`.\n",
    "    # This means these are the edges taken after the `agent` node is called.\n",
    "    \"agent\",\n",
    "    # Next, we pass in the function that will determine which node is called next.\n",
    "    should_continue,\n",
    "    # Finally we pass in a mapping.\n",
    "    # The keys are strings, and the values are other nodes.\n",
    "    # END is a special node marking that the graph should finish.\n",
    "    # What will happen is we will call `should_continue`, and then the output of that\n",
    "    # will be matched against the keys in this mapping.\n",
    "    # Based on which one it matches, that node will then be called.\n",
    "    {\n",
    "        # If `tools`, then we call the tool node.\n",
    "        \"continue\": \"action\",\n",
    "        # Final call\n",
    "        \"final\": \"final\",\n",
    "        # Otherwise we finish.\n",
    "        \"end\": END,\n",
    "    },\n",
    ")\n",
    "\n",
    "# We now add a normal edge from `tools` to `agent`.\n",
    "# This means that after `tools` is called, `agent` node is called next.\n",
    "workflow.add_edge(\"action\", \"agent\")\n",
    "workflow.add_edge(\"final\", END)\n",
    "\n",
    "# Finally, we compile it!\n",
    "# This compiles it into a LangChain Runnable,\n",
    "# meaning you can use it as you would any other runnable\n",
    "app = workflow.compile()"
   ]
  },
  {
   "cell_type": "code",
   "execution_count": 13,
   "id": "651c3d82-4194-4ed7-a36d-71858d7677c3",
   "metadata": {},
   "outputs": [
    {
     "name": "stdout",
     "output_type": "stream",
     "text": [
      "Output from node 'agent':\n",
      "---\n",
      "{'messages': [AIMessage(content='', additional_kwargs={'function_call': {'arguments': '{\"query\":\"weather in San Francisco\"}', 'name': 'tavily_search_results_json'}}, response_metadata={'finish_reason': 'function_call'}, id='run-46ca41f1-3497-4be9-9c2b-db159980dc3d-0')]}\n",
      "\n",
      "---\n",
      "\n",
      "Output from node 'action':\n",
      "---\n",
      "{'messages': [FunctionMessage(content='[{\\'url\\': \\'https://www.weatherapi.com/\\', \\'content\\': \"{\\'location\\': {\\'name\\': \\'San Francisco\\', \\'region\\': \\'California\\', \\'country\\': \\'United States of America\\', \\'lat\\': 37.78, \\'lon\\': -122.42, \\'tz_id\\': \\'America/Los_Angeles\\', \\'localtime_epoch\\': 1713008615, \\'localtime\\': \\'2024-04-13 4:43\\'}, \\'current\\': {\\'last_updated_epoch\\': 1713007800, \\'last_updated\\': \\'2024-04-13 04:30\\', \\'temp_c\\': 10.0, \\'temp_f\\': 50.0, \\'is_day\\': 0, \\'condition\\': {\\'text\\': \\'Light rain\\', \\'icon\\': \\'//cdn.weatherapi.com/weather/64x64/night/296.png\\', \\'code\\': 1183}, \\'wind_mph\\': 8.1, \\'wind_kph\\': 13.0, \\'wind_degree\\': 260, \\'wind_dir\\': \\'W\\', \\'pressure_mb\\': 1010.0, \\'pressure_in\\': 29.82, \\'precip_mm\\': 1.62, \\'precip_in\\': 0.06, \\'humidity\\': 86, \\'cloud\\': 100, \\'feelslike_c\\': 6.6, \\'feelslike_f\\': 43.8, \\'vis_km\\': 16.0, \\'vis_miles\\': 9.0, \\'uv\\': 1.0, \\'gust_mph\\': 24.8, \\'gust_kph\\': 39.9}}\"}]', name='tavily_search_results_json')]}\n",
      "\n",
      "---\n",
      "\n",
      "Output from node 'agent':\n",
      "---\n",
      "{'messages': [AIMessage(content='The current weather in San Francisco is 50°F with light rain. The wind speed is 13.0 km/h coming from the west. The humidity is at 86% and there is a 100% cloud cover.', response_metadata={'finish_reason': 'stop'}, id='run-8567a0d1-c11e-48f6-a122-ad80ea630ea1-0')]}\n",
      "\n",
      "---\n",
      "\n"
     ]
    }
   ],
   "source": [
    "from langchain_core.messages import HumanMessage\n",
    "\n",
    "inputs = {\"messages\": [HumanMessage(content=\"what is the weather in sf\")]}\n",
    "for output in app.stream(inputs):\n",
    "    # stream() yields dictionaries with output keyed by node name\n",
    "    for key, value in output.items():\n",
    "        print(f\"Output from node '{key}':\")\n",
    "        print(\"---\")\n",
    "        print(value)\n",
    "    print(\"\\n---\\n\")"
   ]
  },
  {
   "cell_type": "code",
   "execution_count": 14,
   "id": "1cbc17e9-dfdd-471d-89fd-b4b8dbbe81ec",
   "metadata": {},
   "outputs": [
    {
     "name": "stdout",
     "output_type": "stream",
     "text": [
      "Output from node 'agent':\n",
      "---\n",
      "{'messages': [AIMessage(content='', additional_kwargs={'function_call': {'arguments': '{\"query\":\"weather in San Francisco\",\"return_direct\":true}', 'name': 'tavily_search_results_json'}}, response_metadata={'finish_reason': 'function_call'}, id='run-59acfe55-f9b2-4a13-bbdf-744f89e45e8c-0')]}\n",
      "\n",
      "---\n",
      "\n",
      "Output from node 'final':\n",
      "---\n",
      "{'messages': [FunctionMessage(content='[{\\'url\\': \\'https://www.weatherapi.com/\\', \\'content\\': \"{\\'location\\': {\\'name\\': \\'San Francisco\\', \\'region\\': \\'California\\', \\'country\\': \\'United States of America\\', \\'lat\\': 37.78, \\'lon\\': -122.42, \\'tz_id\\': \\'America/Los_Angeles\\', \\'localtime_epoch\\': 1713008615, \\'localtime\\': \\'2024-04-13 4:43\\'}, \\'current\\': {\\'last_updated_epoch\\': 1713007800, \\'last_updated\\': \\'2024-04-13 04:30\\', \\'temp_c\\': 10.0, \\'temp_f\\': 50.0, \\'is_day\\': 0, \\'condition\\': {\\'text\\': \\'Light rain\\', \\'icon\\': \\'//cdn.weatherapi.com/weather/64x64/night/296.png\\', \\'code\\': 1183}, \\'wind_mph\\': 8.1, \\'wind_kph\\': 13.0, \\'wind_degree\\': 260, \\'wind_dir\\': \\'W\\', \\'pressure_mb\\': 1010.0, \\'pressure_in\\': 29.82, \\'precip_mm\\': 1.62, \\'precip_in\\': 0.06, \\'humidity\\': 86, \\'cloud\\': 100, \\'feelslike_c\\': 6.6, \\'feelslike_f\\': 43.8, \\'vis_km\\': 16.0, \\'vis_miles\\': 9.0, \\'uv\\': 1.0, \\'gust_mph\\': 24.8, \\'gust_kph\\': 39.9}}\"}]', name='tavily_search_results_json')]}\n",
      "\n",
      "---\n",
      "\n"
     ]
    }
   ],
   "source": [
    "from langchain_core.messages import HumanMessage\n",
    "\n",
    "inputs = {\n",
    "    \"messages\": [\n",
    "        HumanMessage(\n",
    "            content=\"what is the weather in sf? return this result directly by setting return_direct = True\"\n",
    "        )\n",
    "    ]\n",
    "}\n",
    "for output in app.stream(inputs):\n",
    "    # stream() yields dictionaries with output keyed by node name\n",
    "    for key, value in output.items():\n",
    "        print(f\"Output from node '{key}':\")\n",
    "        print(\"---\")\n",
    "        print(value)\n",
    "    print(\"\\n---\\n\")"
   ]
  },
  {
   "cell_type": "code",
   "execution_count": null,
   "id": "8dddd721-f4a5-4d4e-b29a-143208570700",
   "metadata": {},
   "outputs": [],
   "source": []
  }
 ],
 "metadata": {
  "kernelspec": {
   "display_name": "Python 3 (ipykernel)",
   "language": "python",
   "name": "python3"
  },
  "language_info": {
   "codemirror_mode": {
    "name": "ipython",
    "version": 3
   },
   "file_extension": ".py",
   "mimetype": "text/x-python",
   "name": "python",
   "nbconvert_exporter": "python",
   "pygments_lexer": "ipython3",
   "version": "3.11.8"
  }
 },
 "nbformat": 4,
 "nbformat_minor": 5
}
